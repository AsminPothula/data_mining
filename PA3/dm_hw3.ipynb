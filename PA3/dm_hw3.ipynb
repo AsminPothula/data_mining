{
  "cells": [
    {
      "cell_type": "markdown",
      "metadata": {
        "id": "q62jSWLvUO9L"
      },
      "source": [
        "### Understanding the Wine Dataset"
      ]
    },
    {
      "cell_type": "code",
      "execution_count": 2,
      "metadata": {
        "id": "CQq5rqrnRhG3",
        "colab": {
          "base_uri": "https://localhost:8080/",
          "height": 74
        },
        "outputId": "9837f4bd-0c90-4f47-ebb6-1a7745e4aa7d"
      },
      "outputs": [
        {
          "output_type": "display_data",
          "data": {
            "text/plain": [
              "<IPython.core.display.HTML object>"
            ],
            "text/html": [
              "\n",
              "     <input type=\"file\" id=\"files-e62c693e-b159-4863-a9ef-4fea33daee73\" name=\"files[]\" multiple disabled\n",
              "        style=\"border:none\" />\n",
              "     <output id=\"result-e62c693e-b159-4863-a9ef-4fea33daee73\">\n",
              "      Upload widget is only available when the cell has been executed in the\n",
              "      current browser session. Please rerun this cell to enable.\n",
              "      </output>\n",
              "      <script>// Copyright 2017 Google LLC\n",
              "//\n",
              "// Licensed under the Apache License, Version 2.0 (the \"License\");\n",
              "// you may not use this file except in compliance with the License.\n",
              "// You may obtain a copy of the License at\n",
              "//\n",
              "//      http://www.apache.org/licenses/LICENSE-2.0\n",
              "//\n",
              "// Unless required by applicable law or agreed to in writing, software\n",
              "// distributed under the License is distributed on an \"AS IS\" BASIS,\n",
              "// WITHOUT WARRANTIES OR CONDITIONS OF ANY KIND, either express or implied.\n",
              "// See the License for the specific language governing permissions and\n",
              "// limitations under the License.\n",
              "\n",
              "/**\n",
              " * @fileoverview Helpers for google.colab Python module.\n",
              " */\n",
              "(function(scope) {\n",
              "function span(text, styleAttributes = {}) {\n",
              "  const element = document.createElement('span');\n",
              "  element.textContent = text;\n",
              "  for (const key of Object.keys(styleAttributes)) {\n",
              "    element.style[key] = styleAttributes[key];\n",
              "  }\n",
              "  return element;\n",
              "}\n",
              "\n",
              "// Max number of bytes which will be uploaded at a time.\n",
              "const MAX_PAYLOAD_SIZE = 100 * 1024;\n",
              "\n",
              "function _uploadFiles(inputId, outputId) {\n",
              "  const steps = uploadFilesStep(inputId, outputId);\n",
              "  const outputElement = document.getElementById(outputId);\n",
              "  // Cache steps on the outputElement to make it available for the next call\n",
              "  // to uploadFilesContinue from Python.\n",
              "  outputElement.steps = steps;\n",
              "\n",
              "  return _uploadFilesContinue(outputId);\n",
              "}\n",
              "\n",
              "// This is roughly an async generator (not supported in the browser yet),\n",
              "// where there are multiple asynchronous steps and the Python side is going\n",
              "// to poll for completion of each step.\n",
              "// This uses a Promise to block the python side on completion of each step,\n",
              "// then passes the result of the previous step as the input to the next step.\n",
              "function _uploadFilesContinue(outputId) {\n",
              "  const outputElement = document.getElementById(outputId);\n",
              "  const steps = outputElement.steps;\n",
              "\n",
              "  const next = steps.next(outputElement.lastPromiseValue);\n",
              "  return Promise.resolve(next.value.promise).then((value) => {\n",
              "    // Cache the last promise value to make it available to the next\n",
              "    // step of the generator.\n",
              "    outputElement.lastPromiseValue = value;\n",
              "    return next.value.response;\n",
              "  });\n",
              "}\n",
              "\n",
              "/**\n",
              " * Generator function which is called between each async step of the upload\n",
              " * process.\n",
              " * @param {string} inputId Element ID of the input file picker element.\n",
              " * @param {string} outputId Element ID of the output display.\n",
              " * @return {!Iterable<!Object>} Iterable of next steps.\n",
              " */\n",
              "function* uploadFilesStep(inputId, outputId) {\n",
              "  const inputElement = document.getElementById(inputId);\n",
              "  inputElement.disabled = false;\n",
              "\n",
              "  const outputElement = document.getElementById(outputId);\n",
              "  outputElement.innerHTML = '';\n",
              "\n",
              "  const pickedPromise = new Promise((resolve) => {\n",
              "    inputElement.addEventListener('change', (e) => {\n",
              "      resolve(e.target.files);\n",
              "    });\n",
              "  });\n",
              "\n",
              "  const cancel = document.createElement('button');\n",
              "  inputElement.parentElement.appendChild(cancel);\n",
              "  cancel.textContent = 'Cancel upload';\n",
              "  const cancelPromise = new Promise((resolve) => {\n",
              "    cancel.onclick = () => {\n",
              "      resolve(null);\n",
              "    };\n",
              "  });\n",
              "\n",
              "  // Wait for the user to pick the files.\n",
              "  const files = yield {\n",
              "    promise: Promise.race([pickedPromise, cancelPromise]),\n",
              "    response: {\n",
              "      action: 'starting',\n",
              "    }\n",
              "  };\n",
              "\n",
              "  cancel.remove();\n",
              "\n",
              "  // Disable the input element since further picks are not allowed.\n",
              "  inputElement.disabled = true;\n",
              "\n",
              "  if (!files) {\n",
              "    return {\n",
              "      response: {\n",
              "        action: 'complete',\n",
              "      }\n",
              "    };\n",
              "  }\n",
              "\n",
              "  for (const file of files) {\n",
              "    const li = document.createElement('li');\n",
              "    li.append(span(file.name, {fontWeight: 'bold'}));\n",
              "    li.append(span(\n",
              "        `(${file.type || 'n/a'}) - ${file.size} bytes, ` +\n",
              "        `last modified: ${\n",
              "            file.lastModifiedDate ? file.lastModifiedDate.toLocaleDateString() :\n",
              "                                    'n/a'} - `));\n",
              "    const percent = span('0% done');\n",
              "    li.appendChild(percent);\n",
              "\n",
              "    outputElement.appendChild(li);\n",
              "\n",
              "    const fileDataPromise = new Promise((resolve) => {\n",
              "      const reader = new FileReader();\n",
              "      reader.onload = (e) => {\n",
              "        resolve(e.target.result);\n",
              "      };\n",
              "      reader.readAsArrayBuffer(file);\n",
              "    });\n",
              "    // Wait for the data to be ready.\n",
              "    let fileData = yield {\n",
              "      promise: fileDataPromise,\n",
              "      response: {\n",
              "        action: 'continue',\n",
              "      }\n",
              "    };\n",
              "\n",
              "    // Use a chunked sending to avoid message size limits. See b/62115660.\n",
              "    let position = 0;\n",
              "    do {\n",
              "      const length = Math.min(fileData.byteLength - position, MAX_PAYLOAD_SIZE);\n",
              "      const chunk = new Uint8Array(fileData, position, length);\n",
              "      position += length;\n",
              "\n",
              "      const base64 = btoa(String.fromCharCode.apply(null, chunk));\n",
              "      yield {\n",
              "        response: {\n",
              "          action: 'append',\n",
              "          file: file.name,\n",
              "          data: base64,\n",
              "        },\n",
              "      };\n",
              "\n",
              "      let percentDone = fileData.byteLength === 0 ?\n",
              "          100 :\n",
              "          Math.round((position / fileData.byteLength) * 100);\n",
              "      percent.textContent = `${percentDone}% done`;\n",
              "\n",
              "    } while (position < fileData.byteLength);\n",
              "  }\n",
              "\n",
              "  // All done.\n",
              "  yield {\n",
              "    response: {\n",
              "      action: 'complete',\n",
              "    }\n",
              "  };\n",
              "}\n",
              "\n",
              "scope.google = scope.google || {};\n",
              "scope.google.colab = scope.google.colab || {};\n",
              "scope.google.colab._files = {\n",
              "  _uploadFiles,\n",
              "  _uploadFilesContinue,\n",
              "};\n",
              "})(self);\n",
              "</script> "
            ]
          },
          "metadata": {}
        },
        {
          "output_type": "stream",
          "name": "stdout",
          "text": [
            "Saving wine_data.csv to wine_data (1).csv\n"
          ]
        }
      ],
      "source": [
        "# wine_data.csv\n",
        "from google.colab import files\n",
        "uploaded = files.upload()"
      ]
    },
    {
      "cell_type": "code",
      "execution_count": 3,
      "metadata": {
        "id": "hvbnVOytRvAl"
      },
      "outputs": [],
      "source": [
        "import pandas as pd\n",
        "import numpy as np\n",
        "wine = pd.read_csv(\"wine_data.csv\")\n"
      ]
    },
    {
      "cell_type": "code",
      "execution_count": null,
      "metadata": {
        "colab": {
          "base_uri": "https://localhost:8080/"
        },
        "id": "zdNh_o0oUhVR",
        "outputId": "7d5be4bc-1d2d-498e-dc02-b676b4d868e2"
      },
      "outputs": [
        {
          "name": "stdout",
          "output_type": "stream",
          "text": [
            "wine.columns:\n",
            "['fixed acidity', 'volatile acidity', 'citric acid', 'residual sugar', 'chlorides', 'free sulfur dioxide', 'total sulfur dioxide', 'density', 'pH', 'sulphates', 'alcohol', 'quality']\n"
          ]
        }
      ],
      "source": [
        "# columns\n",
        "print(\"wine.columns:\\n{}\".format(wine.columns.tolist()))"
      ]
    },
    {
      "cell_type": "code",
      "execution_count": null,
      "metadata": {
        "colab": {
          "base_uri": "https://localhost:8080/"
        },
        "id": "lzR7uQf2UtsE",
        "outputId": "495e0f89-17f1-474c-d152-306856957c7e"
      },
      "outputs": [
        {
          "name": "stdout",
          "output_type": "stream",
          "text": [
            "Shape of wine data: (1359, 12)\n"
          ]
        }
      ],
      "source": [
        "# shape of the dataset\n",
        "print(\"Shape of wine data: {}\".format(wine.shape))"
      ]
    },
    {
      "cell_type": "code",
      "execution_count": null,
      "metadata": {
        "colab": {
          "base_uri": "https://localhost:8080/"
        },
        "id": "09oKvxGUUw3h",
        "outputId": "08e54029-9e26-455c-83ec-ed2a36094aa1"
      },
      "outputs": [
        {
          "name": "stdout",
          "output_type": "stream",
          "text": [
            "Sample counts per class:\n",
            "quality\n",
            "0    638\n",
            "1    721\n",
            "Name: count, dtype: int64\n"
          ]
        }
      ],
      "source": [
        "# sample counts per class (0 = bad, 1 = good)\n",
        "print(\"Sample counts per class:\\n{}\".format(wine['quality'].value_counts().sort_index()))"
      ]
    },
    {
      "cell_type": "code",
      "execution_count": null,
      "metadata": {
        "colab": {
          "base_uri": "https://localhost:8080/"
        },
        "id": "kNLWzq2uUz2y",
        "outputId": "e9bb2fb7-32b7-42eb-8276-5ad77434cf5e"
      },
      "outputs": [
        {
          "name": "stdout",
          "output_type": "stream",
          "text": [
            "Feature names:\n",
            "['fixed acidity', 'volatile acidity', 'citric acid', 'residual sugar', 'chlorides', 'free sulfur dioxide', 'total sulfur dioxide', 'density', 'pH', 'sulphates', 'alcohol']\n",
            "Target names: ['bad', 'good']\n",
            "[ 7.7     0.56    0.08    2.5     0.114  14.     46.      0.9971  3.24\n",
            "  0.66    9.6   ] 1\n",
            "[7.80e+00 5.00e-01 1.70e-01 1.60e+00 8.20e-02 2.10e+01 1.02e+02 9.96e-01\n",
            " 3.39e+00 4.80e-01 9.50e+00] 0\n",
            "[10.7     0.67    0.22    2.7     0.107  17.     34.      1.0004  3.28\n",
            "  0.98    9.9   ] 1\n",
            "[ 8.5    0.46   0.31   2.25   0.078 32.    58.     0.998  3.33   0.54\n",
            "  9.8  ] 0\n",
            "[ 6.7     0.46    0.24    1.7     0.077  18.     34.      0.9948  3.39\n",
            "  0.6    10.6   ] 1\n"
          ]
        }
      ],
      "source": [
        "# feature names\n",
        "feature_names = wine.columns[:-1]\n",
        "target_names = ['bad', 'good']\n",
        "print(\"Feature names:\\n{}\".format(feature_names.tolist()))\n",
        "\n",
        "print(\"Target names: {}\".format(target_names))\n",
        "\n",
        "# print first 5 samples\n",
        "for i in range(5):\n",
        "    print(wine.iloc[i, :-1].values, wine.iloc[i, -1])"
      ]
    },
    {
      "cell_type": "markdown",
      "source": [
        "### Accuracy Scores Overview\n",
        "Approach 1: Simple Decision Tree\n",
        "- Training Accuracy: 0.746\n",
        "- Validation Accuracy: 0.735\n",
        "- Sample Test Set Accuracy: 0.750\n",
        "- Average cross-validation score: 0.684\n",
        "\n",
        "Approach 2: Light GBM\n",
        "- Training Accuracy: 0.853\n",
        "- Validation Accuracy: 0.739\n",
        "- Sample Test Set Accuracy: 0.870\n",
        "- Average cross-validation score: 0.755\n",
        "\n",
        "Approach 3: Stacking (GB + RF + LR)\n",
        "- Training Accuracy: 0.893\n",
        "- Validation Accuracy: 0.757\n",
        "- Sample Test Set Accuracy: 0.900\n",
        "- Average cross-validation score: 0.783"
      ],
      "metadata": {
        "id": "5IqwoEneoVYA"
      }
    },
    {
      "cell_type": "markdown",
      "metadata": {
        "id": "6e10B7KtU8AR"
      },
      "source": [
        "### Task 1"
      ]
    },
    {
      "cell_type": "code",
      "execution_count": null,
      "metadata": {
        "colab": {
          "base_uri": "https://localhost:8080/"
        },
        "id": "jcK0zzFiR63k",
        "outputId": "94d460bc-e4f1-41ed-d1b6-e6a0311ed7f5"
      },
      "outputs": [
        {
          "name": "stdout",
          "output_type": "stream",
          "text": [
            "Training set score: 0.746\n",
            "Validation set score: 0.735\n"
          ]
        }
      ],
      "source": [
        "# approach: simple decision tree\n",
        "import pandas as pd\n",
        "from sklearn.model_selection import train_test_split\n",
        "from sklearn.tree import DecisionTreeClassifier\n",
        "\n",
        "wine = pd.read_csv(\"wine_data.csv\")\n",
        "\n",
        "X = wine.drop(\"quality\", axis=1)\n",
        "y = wine[\"quality\"]\n",
        "train_feature, test_feature, train_class, test_class = train_test_split(\n",
        "    X.values, y.values, stratify=y, test_size=0.2, random_state=42)\n",
        "\n",
        "tree = DecisionTreeClassifier(\n",
        "    max_depth=6,\n",
        "    min_samples_leaf=4,\n",
        "    criterion='entropy',\n",
        "    max_features='sqrt',\n",
        "    random_state=0\n",
        ")\n",
        "tree.fit(train_feature, train_class)\n",
        "print(\"Training Accuracy: {:.3f}\".format(tree.score(train_feature, train_class)))\n",
        "print(\"Validation Accuracy: {:.3f}\".format(tree.score(test_feature, test_class)))"
      ]
    },
    {
      "cell_type": "code",
      "execution_count": null,
      "metadata": {
        "colab": {
          "base_uri": "https://localhost:8080/"
        },
        "id": "LefnfoJUSAki",
        "outputId": "396d44d8-fbd0-4e9c-f41e-bfb62f01f29f"
      },
      "outputs": [
        {
          "name": "stdout",
          "output_type": "stream",
          "text": [
            "\n",
            "Training Confusion Matrix:\n",
            "Predicted    0    1   All\n",
            "True                     \n",
            "0          438   72   510\n",
            "1          164  413   577\n",
            "All        602  485  1087\n",
            "\n",
            "Validation Confusion Matrix:\n",
            "Predicted    0    1  All\n",
            "True                    \n",
            "0           96   32  128\n",
            "1           52   92  144\n",
            "All        148  124  272\n"
          ]
        }
      ],
      "source": [
        "# confusion matrix - training\n",
        "train_prediction = tree.predict(train_feature)\n",
        "print(\"\\nTraining Confusion Matrix:\")\n",
        "print(pd.crosstab(train_class, train_prediction, rownames=['True'], colnames=['Predicted'], margins=True))\n",
        "\n",
        "# confusion matrix - validation\n",
        "test_prediction = tree.predict(test_feature)\n",
        "print(\"\\nValidation Confusion Matrix:\")\n",
        "print(pd.crosstab(test_class, test_prediction, rownames=['True'], colnames=['Predicted'], margins=True))"
      ]
    },
    {
      "cell_type": "code",
      "execution_count": 6,
      "metadata": {
        "colab": {
          "base_uri": "https://localhost:8080/"
        },
        "id": "LdNw9yjJzK9G",
        "outputId": "4d131723-10bb-4fc5-e909-5ca0e1583d7e"
      },
      "outputs": [
        {
          "output_type": "stream",
          "name": "stdout",
          "text": [
            "LightGBM - Training Accuracy: 0.853\n",
            "LightGBM - Validation Accuracy: 0.739\n",
            "\n",
            "Stacking - Training Accuracy: 0.893\n",
            "Stacking - Validation Accuracy: 0.757\n"
          ]
        }
      ],
      "source": [
        "# approach: light gbm & stacking\n",
        "import pandas as pd\n",
        "from sklearn.model_selection import train_test_split\n",
        "from sklearn.ensemble import GradientBoostingClassifier, RandomForestClassifier, StackingClassifier\n",
        "from sklearn.linear_model import LogisticRegression\n",
        "from sklearn.metrics import accuracy_score\n",
        "from lightgbm import LGBMClassifier\n",
        "\n",
        "wine = pd.read_csv(\"wine_data.csv\")\n",
        "wine['volatile acidity'] = wine['alcohol'] * wine['fixed acidity']\n",
        "wine['acidity_ratio'] = wine['fixed acidity'] / (wine['volatile acidity'] + 1e-5)\n",
        "wine['sulfur_ratio'] = wine['free sulfur dioxide'] / (wine['total sulfur dioxide'] + 1e-5)\n",
        "\n",
        "X = wine.drop(\"quality\", axis=1)\n",
        "y = wine[\"quality\"]\n",
        "\n",
        "X_train, X_test, y_train, y_test = train_test_split(X, y, stratify=y, test_size=0.2, random_state=0)\n",
        "\n",
        "# light gbm classifier\n",
        "lgbm = LGBMClassifier(\n",
        "    n_estimators=400,\n",
        "    learning_rate=0.03,\n",
        "    max_depth=3,\n",
        "    subsample=0.8,\n",
        "    colsample_bytree=0.8,\n",
        "    min_child_samples=20,\n",
        "    reg_alpha=1.0,\n",
        "    reg_lambda=1.0,\n",
        "    random_state=0,\n",
        "    verbose=-1,\n",
        "    verbosity=-1\n",
        ")\n",
        "lgbm.fit(X_train, y_train)\n",
        "print(\"LightGBM - Training Accuracy: {:.3f}\".format(lgbm.score(X_train, y_train)))\n",
        "print(\"LightGBM - Validation Accuracy: {:.3f}\".format(lgbm.score(X_test, y_test)))\n",
        "\n",
        "# stacking: grdient boosting + random forest + logistic regression\n",
        "gb = GradientBoostingClassifier(\n",
        "    n_estimators=300,\n",
        "    learning_rate=0.05,\n",
        "    max_depth=3,\n",
        "    min_samples_leaf=4,\n",
        "    subsample=0.9,\n",
        "    random_state=0\n",
        ")\n",
        "\n",
        "rf = RandomForestClassifier(\n",
        "    n_estimators=300,\n",
        "    max_depth=6,\n",
        "    min_samples_leaf=4,\n",
        "    max_features='sqrt',\n",
        "    random_state=0\n",
        ")\n",
        "\n",
        "stacked = StackingClassifier(\n",
        "    estimators=[\n",
        "        ('gb', gb),\n",
        "        ('rf', rf)\n",
        "    ],\n",
        "    final_estimator=LogisticRegression(max_iter=1000),\n",
        "    cv=5\n",
        ")\n",
        "\n",
        "stacked.fit(X_train, y_train)\n",
        "\n",
        "print(\"\\nStacking - Training Accuracy: {:.3f}\".format(stacked.score(X_train, y_train)))\n",
        "print(\"Stacking - Validation Accuracy: {:.3f}\".format(stacked.score(X_test, y_test)))\n"
      ]
    },
    {
      "cell_type": "code",
      "execution_count": null,
      "metadata": {
        "colab": {
          "base_uri": "https://localhost:8080/"
        },
        "id": "pmYykBJY1ulv",
        "outputId": "a0965779-e8a2-4787-d42e-52c2f398750d"
      },
      "outputs": [
        {
          "name": "stdout",
          "output_type": "stream",
          "text": [
            "\n",
            "LightGBM - Training Confusion Matrix:\n",
            "Predicted    0    1   All\n",
            "True                     \n",
            "0          435   75   510\n",
            "1           85  492   577\n",
            "All        520  567  1087\n",
            "\n",
            "LightGBM - Validation Confusion Matrix:\n",
            "Predicted    0    1  All\n",
            "True                    \n",
            "0           94   34  128\n",
            "1           37  107  144\n",
            "All        131  141  272\n",
            "\n",
            "Stacking - Training Confusion Matrix:\n",
            "Predicted    0    1   All\n",
            "True                     \n",
            "0          451   59   510\n",
            "1           57  520   577\n",
            "All        508  579  1087\n",
            "\n",
            "Stacking - Validation Confusion Matrix:\n",
            "Predicted    0    1  All\n",
            "True                    \n",
            "0           94   34  128\n",
            "1           32  112  144\n",
            "All        126  146  272\n"
          ]
        }
      ],
      "source": [
        "from sklearn.metrics import confusion_matrix\n",
        "import pandas as pd\n",
        "\n",
        "# light gbm confusion matrix\n",
        "lgbm_train_pred = lgbm.predict(X_train)\n",
        "lgbm_test_pred = lgbm.predict(X_test)\n",
        "\n",
        "print(\"\\nLightGBM - Training Confusion Matrix:\")\n",
        "print(pd.crosstab(y_train, lgbm_train_pred, rownames=['True'], colnames=['Predicted'], margins=True))\n",
        "\n",
        "print(\"\\nLightGBM - Validation Confusion Matrix:\")\n",
        "print(pd.crosstab(y_test, lgbm_test_pred, rownames=['True'], colnames=['Predicted'], margins=True))\n",
        "\n",
        "# stacking confusion matrix\n",
        "stack_train_pred = stacked.predict(X_train)\n",
        "stack_test_pred = stacked.predict(X_test)\n",
        "\n",
        "print(\"\\nStacking - Training Confusion Matrix:\")\n",
        "print(pd.crosstab(y_train, stack_train_pred, rownames=['True'], colnames=['Predicted'], margins=True))\n",
        "\n",
        "print(\"\\nStacking - Validation Confusion Matrix:\")\n",
        "print(pd.crosstab(y_test, stack_test_pred, rownames=['True'], colnames=['Predicted'], margins=True))\n"
      ]
    },
    {
      "cell_type": "markdown",
      "metadata": {
        "id": "QduCetm5VEMq"
      },
      "source": [
        "#### Decision Tree Visualisation"
      ]
    },
    {
      "cell_type": "code",
      "execution_count": null,
      "metadata": {
        "id": "u4e44MEVSBwl"
      },
      "outputs": [],
      "source": [
        "!apt-get -qq install -y graphviz"
      ]
    },
    {
      "cell_type": "code",
      "execution_count": null,
      "metadata": {
        "colab": {
          "base_uri": "https://localhost:8080/"
        },
        "id": "wFKaF-PYSI5o",
        "outputId": "961f4054-632d-4f22-d724-4dfa4a2b7e45"
      },
      "outputs": [
        {
          "name": "stdout",
          "output_type": "stream",
          "text": [
            "Requirement already satisfied: graphviz in /usr/local/lib/python3.11/dist-packages (0.20.3)\n"
          ]
        }
      ],
      "source": [
        " !pip install graphviz"
      ]
    },
    {
      "cell_type": "code",
      "execution_count": null,
      "metadata": {
        "colab": {
          "base_uri": "https://localhost:8080/",
          "height": 954
        },
        "id": "PXaL3sPfSMkF",
        "outputId": "6e1e7902-13be-4469-95d6-60e0118168db"
      },
      "outputs": [
        {
          "data": {
            "image/svg+xml": "<?xml version=\"1.0\" encoding=\"UTF-8\" standalone=\"no\"?>\n<!DOCTYPE svg PUBLIC \"-//W3C//DTD SVG 1.1//EN\"\n \"http://www.w3.org/Graphics/SVG/1.1/DTD/svg11.dtd\">\n<!-- Generated by graphviz version 2.43.0 (0)\n -->\n<!-- Title: Tree Pages: 1 -->\n<svg width=\"3681pt\" height=\"685pt\"\n viewBox=\"0.00 0.00 3681.00 685.00\" xmlns=\"http://www.w3.org/2000/svg\" xmlns:xlink=\"http://www.w3.org/1999/xlink\">\n<g id=\"graph0\" class=\"graph\" transform=\"scale(1 1) rotate(0) translate(4 681)\">\n<title>Tree</title>\n<polygon fill=\"white\" stroke=\"transparent\" points=\"-4,4 -4,-681 3677,-681 3677,4 -4,4\"/>\n<!-- 0 -->\n<g id=\"node1\" class=\"node\">\n<title>0</title>\n<polygon fill=\"#e8f4fc\" stroke=\"black\" points=\"1220.5,-677 1092.5,-677 1092.5,-609 1220.5,-609 1220.5,-677\"/>\n<text text-anchor=\"middle\" x=\"1156.5\" y=\"-661.8\" font-family=\"Helvetica,sans-Serif\" font-size=\"14.00\">chlorides &lt;= 0.069</text>\n<text text-anchor=\"middle\" x=\"1156.5\" y=\"-646.8\" font-family=\"Helvetica,sans-Serif\" font-size=\"14.00\">samples = 1087</text>\n<text text-anchor=\"middle\" x=\"1156.5\" y=\"-631.8\" font-family=\"Helvetica,sans-Serif\" font-size=\"14.00\">value = [510, 577]</text>\n<text text-anchor=\"middle\" x=\"1156.5\" y=\"-616.8\" font-family=\"Helvetica,sans-Serif\" font-size=\"14.00\">class = good</text>\n</g>\n<!-- 1 -->\n<g id=\"node2\" class=\"node\">\n<title>1</title>\n<polygon fill=\"#90c8f0\" stroke=\"black\" points=\"1012,-573 895,-573 895,-505 1012,-505 1012,-573\"/>\n<text text-anchor=\"middle\" x=\"953.5\" y=\"-557.8\" font-family=\"Helvetica,sans-Serif\" font-size=\"14.00\">density &lt;= 0.993</text>\n<text text-anchor=\"middle\" x=\"953.5\" y=\"-542.8\" font-family=\"Helvetica,sans-Serif\" font-size=\"14.00\">samples = 246</text>\n<text text-anchor=\"middle\" x=\"953.5\" y=\"-527.8\" font-family=\"Helvetica,sans-Serif\" font-size=\"14.00\">value = [75, 171]</text>\n<text text-anchor=\"middle\" x=\"953.5\" y=\"-512.8\" font-family=\"Helvetica,sans-Serif\" font-size=\"14.00\">class = good</text>\n</g>\n<!-- 0&#45;&gt;1 -->\n<g id=\"edge1\" class=\"edge\">\n<title>0&#45;&gt;1</title>\n<path fill=\"none\" stroke=\"black\" d=\"M1092.27,-609.73C1069.61,-598.34 1044.07,-585.51 1021.13,-573.98\"/>\n<polygon fill=\"black\" stroke=\"black\" points=\"1022.65,-570.83 1012.15,-569.47 1019.51,-577.09 1022.65,-570.83\"/>\n<text text-anchor=\"middle\" x=\"1020.01\" y=\"-589.5\" font-family=\"Helvetica,sans-Serif\" font-size=\"14.00\">True</text>\n</g>\n<!-- 24 -->\n<g id=\"node25\" class=\"node\">\n<title>24</title>\n<polygon fill=\"#fdf7f2\" stroke=\"black\" points=\"1892,-573 1745,-573 1745,-505 1892,-505 1892,-573\"/>\n<text text-anchor=\"middle\" x=\"1818.5\" y=\"-557.8\" font-family=\"Helvetica,sans-Serif\" font-size=\"14.00\">alcohol &lt;= 10.55</text>\n<text text-anchor=\"middle\" x=\"1818.5\" y=\"-542.8\" font-family=\"Helvetica,sans-Serif\" font-size=\"14.00\">samples = 841</text>\n<text text-anchor=\"middle\" x=\"1818.5\" y=\"-527.8\" font-family=\"Helvetica,sans-Serif\" font-size=\"14.00\">value = [435.0, 406.0]</text>\n<text text-anchor=\"middle\" x=\"1818.5\" y=\"-512.8\" font-family=\"Helvetica,sans-Serif\" font-size=\"14.00\">class = bad</text>\n</g>\n<!-- 0&#45;&gt;24 -->\n<g id=\"edge24\" class=\"edge\">\n<title>0&#45;&gt;24</title>\n<path fill=\"none\" stroke=\"black\" d=\"M1220.58,-632.13C1340.91,-613.59 1600.6,-573.57 1734.65,-552.92\"/>\n<polygon fill=\"black\" stroke=\"black\" points=\"1735.52,-556.33 1744.87,-551.35 1734.45,-549.41 1735.52,-556.33\"/>\n<text text-anchor=\"middle\" x=\"1730.09\" y=\"-567.81\" font-family=\"Helvetica,sans-Serif\" font-size=\"14.00\">False</text>\n</g>\n<!-- 2 -->\n<g id=\"node3\" class=\"node\">\n<title>2</title>\n<polygon fill=\"#399de5\" stroke=\"black\" points=\"866.5,-461.5 764.5,-461.5 764.5,-408.5 866.5,-408.5 866.5,-461.5\"/>\n<text text-anchor=\"middle\" x=\"815.5\" y=\"-446.3\" font-family=\"Helvetica,sans-Serif\" font-size=\"14.00\">samples = 21</text>\n<text text-anchor=\"middle\" x=\"815.5\" y=\"-431.3\" font-family=\"Helvetica,sans-Serif\" font-size=\"14.00\">value = [0, 21]</text>\n<text text-anchor=\"middle\" x=\"815.5\" y=\"-416.3\" font-family=\"Helvetica,sans-Serif\" font-size=\"14.00\">class = good</text>\n</g>\n<!-- 1&#45;&gt;2 -->\n<g id=\"edge2\" class=\"edge\">\n<title>1&#45;&gt;2</title>\n<path fill=\"none\" stroke=\"black\" d=\"M908.7,-504.88C892.48,-492.9 874.22,-479.4 858.18,-467.55\"/>\n<polygon fill=\"black\" stroke=\"black\" points=\"860.15,-464.65 850.03,-461.52 855.99,-470.28 860.15,-464.65\"/>\n</g>\n<!-- 3 -->\n<g id=\"node4\" class=\"node\">\n<title>3</title>\n<polygon fill=\"#9ccef2\" stroke=\"black\" points=\"1022,-469 885,-469 885,-401 1022,-401 1022,-469\"/>\n<text text-anchor=\"middle\" x=\"953.5\" y=\"-453.8\" font-family=\"Helvetica,sans-Serif\" font-size=\"14.00\">fixed acidity &lt;= 8.85</text>\n<text text-anchor=\"middle\" x=\"953.5\" y=\"-438.8\" font-family=\"Helvetica,sans-Serif\" font-size=\"14.00\">samples = 225</text>\n<text text-anchor=\"middle\" x=\"953.5\" y=\"-423.8\" font-family=\"Helvetica,sans-Serif\" font-size=\"14.00\">value = [75, 150]</text>\n<text text-anchor=\"middle\" x=\"953.5\" y=\"-408.8\" font-family=\"Helvetica,sans-Serif\" font-size=\"14.00\">class = good</text>\n</g>\n<!-- 1&#45;&gt;3 -->\n<g id=\"edge3\" class=\"edge\">\n<title>1&#45;&gt;3</title>\n<path fill=\"none\" stroke=\"black\" d=\"M953.5,-504.88C953.5,-496.78 953.5,-487.98 953.5,-479.47\"/>\n<polygon fill=\"black\" stroke=\"black\" points=\"957,-479.3 953.5,-469.3 950,-479.3 957,-479.3\"/>\n</g>\n<!-- 4 -->\n<g id=\"node5\" class=\"node\">\n<title>4</title>\n<polygon fill=\"#b7dbf6\" stroke=\"black\" points=\"676,-365 559,-365 559,-297 676,-297 676,-365\"/>\n<text text-anchor=\"middle\" x=\"617.5\" y=\"-349.8\" font-family=\"Helvetica,sans-Serif\" font-size=\"14.00\">pH &lt;= 3.545</text>\n<text text-anchor=\"middle\" x=\"617.5\" y=\"-334.8\" font-family=\"Helvetica,sans-Serif\" font-size=\"14.00\">samples = 167</text>\n<text text-anchor=\"middle\" x=\"617.5\" y=\"-319.8\" font-family=\"Helvetica,sans-Serif\" font-size=\"14.00\">value = [65, 102]</text>\n<text text-anchor=\"middle\" x=\"617.5\" y=\"-304.8\" font-family=\"Helvetica,sans-Serif\" font-size=\"14.00\">class = good</text>\n</g>\n<!-- 3&#45;&gt;4 -->\n<g id=\"edge4\" class=\"edge\">\n<title>3&#45;&gt;4</title>\n<path fill=\"none\" stroke=\"black\" d=\"M884.8,-404.32C881.67,-403.16 878.56,-402.05 875.5,-401 812.26,-379.28 738.4,-360.14 685.95,-347.56\"/>\n<polygon fill=\"black\" stroke=\"black\" points=\"686.63,-344.12 676.09,-345.21 685,-350.93 686.63,-344.12\"/>\n</g>\n<!-- 17 -->\n<g id=\"node18\" class=\"node\">\n<title>17</title>\n<polygon fill=\"#62b1ea\" stroke=\"black\" points=\"1040,-365 867,-365 867,-297 1040,-297 1040,-365\"/>\n<text text-anchor=\"middle\" x=\"953.5\" y=\"-349.8\" font-family=\"Helvetica,sans-Serif\" font-size=\"14.00\">free sulfur dioxide &lt;= 15.5</text>\n<text text-anchor=\"middle\" x=\"953.5\" y=\"-334.8\" font-family=\"Helvetica,sans-Serif\" font-size=\"14.00\">samples = 58</text>\n<text text-anchor=\"middle\" x=\"953.5\" y=\"-319.8\" font-family=\"Helvetica,sans-Serif\" font-size=\"14.00\">value = [10, 48]</text>\n<text text-anchor=\"middle\" x=\"953.5\" y=\"-304.8\" font-family=\"Helvetica,sans-Serif\" font-size=\"14.00\">class = good</text>\n</g>\n<!-- 3&#45;&gt;17 -->\n<g id=\"edge17\" class=\"edge\">\n<title>3&#45;&gt;17</title>\n<path fill=\"none\" stroke=\"black\" d=\"M953.5,-400.88C953.5,-392.78 953.5,-383.98 953.5,-375.47\"/>\n<polygon fill=\"black\" stroke=\"black\" points=\"957,-375.3 953.5,-365.3 950,-375.3 957,-375.3\"/>\n</g>\n<!-- 5 -->\n<g id=\"node6\" class=\"node\">\n<title>5</title>\n<polygon fill=\"#a7d3f3\" stroke=\"black\" points=\"431,-261 306,-261 306,-193 431,-193 431,-261\"/>\n<text text-anchor=\"middle\" x=\"368.5\" y=\"-245.8\" font-family=\"Helvetica,sans-Serif\" font-size=\"14.00\">sulphates &lt;= 0.48</text>\n<text text-anchor=\"middle\" x=\"368.5\" y=\"-230.8\" font-family=\"Helvetica,sans-Serif\" font-size=\"14.00\">samples = 146</text>\n<text text-anchor=\"middle\" x=\"368.5\" y=\"-215.8\" font-family=\"Helvetica,sans-Serif\" font-size=\"14.00\">value = [52, 94]</text>\n<text text-anchor=\"middle\" x=\"368.5\" y=\"-200.8\" font-family=\"Helvetica,sans-Serif\" font-size=\"14.00\">class = good</text>\n</g>\n<!-- 4&#45;&gt;5 -->\n<g id=\"edge5\" class=\"edge\">\n<title>4&#45;&gt;5</title>\n<path fill=\"none\" stroke=\"black\" d=\"M558.81,-305.96C523.42,-291.46 478.07,-272.88 440.52,-257.5\"/>\n<polygon fill=\"black\" stroke=\"black\" points=\"441.73,-254.22 431.15,-253.67 439.08,-260.69 441.73,-254.22\"/>\n</g>\n<!-- 12 -->\n<g id=\"node13\" class=\"node\">\n<title>12</title>\n<polygon fill=\"#f5cfb3\" stroke=\"black\" points=\"676,-261 559,-261 559,-193 676,-193 676,-261\"/>\n<text text-anchor=\"middle\" x=\"617.5\" y=\"-245.8\" font-family=\"Helvetica,sans-Serif\" font-size=\"14.00\">alcohol &lt;= 12.25</text>\n<text text-anchor=\"middle\" x=\"617.5\" y=\"-230.8\" font-family=\"Helvetica,sans-Serif\" font-size=\"14.00\">samples = 21</text>\n<text text-anchor=\"middle\" x=\"617.5\" y=\"-215.8\" font-family=\"Helvetica,sans-Serif\" font-size=\"14.00\">value = [13, 8]</text>\n<text text-anchor=\"middle\" x=\"617.5\" y=\"-200.8\" font-family=\"Helvetica,sans-Serif\" font-size=\"14.00\">class = bad</text>\n</g>\n<!-- 4&#45;&gt;12 -->\n<g id=\"edge12\" class=\"edge\">\n<title>4&#45;&gt;12</title>\n<path fill=\"none\" stroke=\"black\" d=\"M617.5,-296.88C617.5,-288.78 617.5,-279.98 617.5,-271.47\"/>\n<polygon fill=\"black\" stroke=\"black\" points=\"621,-271.3 617.5,-261.3 614,-271.3 621,-271.3\"/>\n</g>\n<!-- 6 -->\n<g id=\"node7\" class=\"node\">\n<title>6</title>\n<polygon fill=\"#e88e4d\" stroke=\"black\" points=\"248.5,-157 72.5,-157 72.5,-89 248.5,-89 248.5,-157\"/>\n<text text-anchor=\"middle\" x=\"160.5\" y=\"-141.8\" font-family=\"Helvetica,sans-Serif\" font-size=\"14.00\">total sulfur dioxide &lt;= 36.5</text>\n<text text-anchor=\"middle\" x=\"160.5\" y=\"-126.8\" font-family=\"Helvetica,sans-Serif\" font-size=\"14.00\">samples = 11</text>\n<text text-anchor=\"middle\" x=\"160.5\" y=\"-111.8\" font-family=\"Helvetica,sans-Serif\" font-size=\"14.00\">value = [10, 1]</text>\n<text text-anchor=\"middle\" x=\"160.5\" y=\"-96.8\" font-family=\"Helvetica,sans-Serif\" font-size=\"14.00\">class = bad</text>\n</g>\n<!-- 5&#45;&gt;6 -->\n<g id=\"edge6\" class=\"edge\">\n<title>5&#45;&gt;6</title>\n<path fill=\"none\" stroke=\"black\" d=\"M305.81,-195.26C284.26,-184.69 259.88,-172.73 237.33,-161.68\"/>\n<polygon fill=\"black\" stroke=\"black\" points=\"238.65,-158.43 228.13,-157.17 235.57,-164.71 238.65,-158.43\"/>\n</g>\n<!-- 9 -->\n<g id=\"node10\" class=\"node\">\n<title>9</title>\n<polygon fill=\"#92c9f1\" stroke=\"black\" points=\"427,-157 310,-157 310,-89 427,-89 427,-157\"/>\n<text text-anchor=\"middle\" x=\"368.5\" y=\"-141.8\" font-family=\"Helvetica,sans-Serif\" font-size=\"14.00\">density &lt;= 0.996</text>\n<text text-anchor=\"middle\" x=\"368.5\" y=\"-126.8\" font-family=\"Helvetica,sans-Serif\" font-size=\"14.00\">samples = 135</text>\n<text text-anchor=\"middle\" x=\"368.5\" y=\"-111.8\" font-family=\"Helvetica,sans-Serif\" font-size=\"14.00\">value = [42, 93]</text>\n<text text-anchor=\"middle\" x=\"368.5\" y=\"-96.8\" font-family=\"Helvetica,sans-Serif\" font-size=\"14.00\">class = good</text>\n</g>\n<!-- 5&#45;&gt;9 -->\n<g id=\"edge9\" class=\"edge\">\n<title>5&#45;&gt;9</title>\n<path fill=\"none\" stroke=\"black\" d=\"M368.5,-192.88C368.5,-184.78 368.5,-175.98 368.5,-167.47\"/>\n<polygon fill=\"black\" stroke=\"black\" points=\"372,-167.3 368.5,-157.3 365,-167.3 372,-167.3\"/>\n</g>\n<!-- 7 -->\n<g id=\"node8\" class=\"node\">\n<title>7</title>\n<polygon fill=\"#e58139\" stroke=\"black\" points=\"95,-53 0,-53 0,0 95,0 95,-53\"/>\n<text text-anchor=\"middle\" x=\"47.5\" y=\"-37.8\" font-family=\"Helvetica,sans-Serif\" font-size=\"14.00\">samples = 7</text>\n<text text-anchor=\"middle\" x=\"47.5\" y=\"-22.8\" font-family=\"Helvetica,sans-Serif\" font-size=\"14.00\">value = [7, 0]</text>\n<text text-anchor=\"middle\" x=\"47.5\" y=\"-7.8\" font-family=\"Helvetica,sans-Serif\" font-size=\"14.00\">class = bad</text>\n</g>\n<!-- 6&#45;&gt;7 -->\n<g id=\"edge7\" class=\"edge\">\n<title>6&#45;&gt;7</title>\n<path fill=\"none\" stroke=\"black\" d=\"M120.98,-88.95C109.71,-79.53 97.45,-69.27 86.23,-59.89\"/>\n<polygon fill=\"black\" stroke=\"black\" points=\"88.19,-56.97 78.28,-53.24 83.7,-62.34 88.19,-56.97\"/>\n</g>\n<!-- 8 -->\n<g id=\"node9\" class=\"node\">\n<title>8</title>\n<polygon fill=\"#eeab7b\" stroke=\"black\" points=\"208,-53 113,-53 113,0 208,0 208,-53\"/>\n<text text-anchor=\"middle\" x=\"160.5\" y=\"-37.8\" font-family=\"Helvetica,sans-Serif\" font-size=\"14.00\">samples = 4</text>\n<text text-anchor=\"middle\" x=\"160.5\" y=\"-22.8\" font-family=\"Helvetica,sans-Serif\" font-size=\"14.00\">value = [3, 1]</text>\n<text text-anchor=\"middle\" x=\"160.5\" y=\"-7.8\" font-family=\"Helvetica,sans-Serif\" font-size=\"14.00\">class = bad</text>\n</g>\n<!-- 6&#45;&gt;8 -->\n<g id=\"edge8\" class=\"edge\">\n<title>6&#45;&gt;8</title>\n<path fill=\"none\" stroke=\"black\" d=\"M160.5,-88.95C160.5,-80.72 160.5,-71.85 160.5,-63.48\"/>\n<polygon fill=\"black\" stroke=\"black\" points=\"164,-63.24 160.5,-53.24 157,-63.24 164,-63.24\"/>\n</g>\n<!-- 10 -->\n<g id=\"node11\" class=\"node\">\n<title>10</title>\n<polygon fill=\"#65b3eb\" stroke=\"black\" points=\"336.5,-53 226.5,-53 226.5,0 336.5,0 336.5,-53\"/>\n<text text-anchor=\"middle\" x=\"281.5\" y=\"-37.8\" font-family=\"Helvetica,sans-Serif\" font-size=\"14.00\">samples = 83</text>\n<text text-anchor=\"middle\" x=\"281.5\" y=\"-22.8\" font-family=\"Helvetica,sans-Serif\" font-size=\"14.00\">value = [15, 68]</text>\n<text text-anchor=\"middle\" x=\"281.5\" y=\"-7.8\" font-family=\"Helvetica,sans-Serif\" font-size=\"14.00\">class = good</text>\n</g>\n<!-- 9&#45;&gt;10 -->\n<g id=\"edge10\" class=\"edge\">\n<title>9&#45;&gt;10</title>\n<path fill=\"none\" stroke=\"black\" d=\"M338.07,-88.95C329.65,-79.8 320.51,-69.87 312.08,-60.71\"/>\n<polygon fill=\"black\" stroke=\"black\" points=\"314.54,-58.22 305.19,-53.24 309.39,-62.96 314.54,-58.22\"/>\n</g>\n<!-- 11 -->\n<g id=\"node12\" class=\"node\">\n<title>11</title>\n<polygon fill=\"#fdf6f0\" stroke=\"black\" points=\"486.5,-53 354.5,-53 354.5,0 486.5,0 486.5,-53\"/>\n<text text-anchor=\"middle\" x=\"420.5\" y=\"-37.8\" font-family=\"Helvetica,sans-Serif\" font-size=\"14.00\">samples = 52</text>\n<text text-anchor=\"middle\" x=\"420.5\" y=\"-22.8\" font-family=\"Helvetica,sans-Serif\" font-size=\"14.00\">value = [27.0, 25.0]</text>\n<text text-anchor=\"middle\" x=\"420.5\" y=\"-7.8\" font-family=\"Helvetica,sans-Serif\" font-size=\"14.00\">class = bad</text>\n</g>\n<!-- 9&#45;&gt;11 -->\n<g id=\"edge11\" class=\"edge\">\n<title>9&#45;&gt;11</title>\n<path fill=\"none\" stroke=\"black\" d=\"M386.69,-88.95C391.47,-80.26 396.64,-70.86 401.47,-62.09\"/>\n<polygon fill=\"black\" stroke=\"black\" points=\"404.58,-63.69 406.34,-53.24 398.45,-60.31 404.58,-63.69\"/>\n</g>\n<!-- 13 -->\n<g id=\"node14\" class=\"node\">\n<title>13</title>\n<polygon fill=\"#eca36f\" stroke=\"black\" points=\"616.5,-157 488.5,-157 488.5,-89 616.5,-89 616.5,-157\"/>\n<text text-anchor=\"middle\" x=\"552.5\" y=\"-141.8\" font-family=\"Helvetica,sans-Serif\" font-size=\"14.00\">chlorides &lt;= 0.055</text>\n<text text-anchor=\"middle\" x=\"552.5\" y=\"-126.8\" font-family=\"Helvetica,sans-Serif\" font-size=\"14.00\">samples = 14</text>\n<text text-anchor=\"middle\" x=\"552.5\" y=\"-111.8\" font-family=\"Helvetica,sans-Serif\" font-size=\"14.00\">value = [11, 3]</text>\n<text text-anchor=\"middle\" x=\"552.5\" y=\"-96.8\" font-family=\"Helvetica,sans-Serif\" font-size=\"14.00\">class = bad</text>\n</g>\n<!-- 12&#45;&gt;13 -->\n<g id=\"edge13\" class=\"edge\">\n<title>12&#45;&gt;13</title>\n<path fill=\"none\" stroke=\"black\" d=\"M596.4,-192.88C590.89,-184.24 584.88,-174.82 579.13,-165.79\"/>\n<polygon fill=\"black\" stroke=\"black\" points=\"582.05,-163.85 573.72,-157.3 576.14,-167.61 582.05,-163.85\"/>\n</g>\n<!-- 16 -->\n<g id=\"node17\" class=\"node\">\n<title>16</title>\n<polygon fill=\"#88c4ef\" stroke=\"black\" points=\"730,-149.5 635,-149.5 635,-96.5 730,-96.5 730,-149.5\"/>\n<text text-anchor=\"middle\" x=\"682.5\" y=\"-134.3\" font-family=\"Helvetica,sans-Serif\" font-size=\"14.00\">samples = 7</text>\n<text text-anchor=\"middle\" x=\"682.5\" y=\"-119.3\" font-family=\"Helvetica,sans-Serif\" font-size=\"14.00\">value = [2, 5]</text>\n<text text-anchor=\"middle\" x=\"682.5\" y=\"-104.3\" font-family=\"Helvetica,sans-Serif\" font-size=\"14.00\">class = good</text>\n</g>\n<!-- 12&#45;&gt;16 -->\n<g id=\"edge16\" class=\"edge\">\n<title>12&#45;&gt;16</title>\n<path fill=\"none\" stroke=\"black\" d=\"M638.6,-192.88C645.68,-181.78 653.59,-169.37 660.72,-158.18\"/>\n<polygon fill=\"black\" stroke=\"black\" points=\"663.81,-159.83 666.24,-149.52 657.91,-156.07 663.81,-159.83\"/>\n</g>\n<!-- 14 -->\n<g id=\"node15\" class=\"node\">\n<title>14</title>\n<polygon fill=\"#e58139\" stroke=\"black\" points=\"600,-53 505,-53 505,0 600,0 600,-53\"/>\n<text text-anchor=\"middle\" x=\"552.5\" y=\"-37.8\" font-family=\"Helvetica,sans-Serif\" font-size=\"14.00\">samples = 6</text>\n<text text-anchor=\"middle\" x=\"552.5\" y=\"-22.8\" font-family=\"Helvetica,sans-Serif\" font-size=\"14.00\">value = [6, 0]</text>\n<text text-anchor=\"middle\" x=\"552.5\" y=\"-7.8\" font-family=\"Helvetica,sans-Serif\" font-size=\"14.00\">class = bad</text>\n</g>\n<!-- 13&#45;&gt;14 -->\n<g id=\"edge14\" class=\"edge\">\n<title>13&#45;&gt;14</title>\n<path fill=\"none\" stroke=\"black\" d=\"M552.5,-88.95C552.5,-80.72 552.5,-71.85 552.5,-63.48\"/>\n<polygon fill=\"black\" stroke=\"black\" points=\"556,-63.24 552.5,-53.24 549,-63.24 556,-63.24\"/>\n</g>\n<!-- 15 -->\n<g id=\"node16\" class=\"node\">\n<title>15</title>\n<polygon fill=\"#f5cdb0\" stroke=\"black\" points=\"713,-53 618,-53 618,0 713,0 713,-53\"/>\n<text text-anchor=\"middle\" x=\"665.5\" y=\"-37.8\" font-family=\"Helvetica,sans-Serif\" font-size=\"14.00\">samples = 8</text>\n<text text-anchor=\"middle\" x=\"665.5\" y=\"-22.8\" font-family=\"Helvetica,sans-Serif\" font-size=\"14.00\">value = [5, 3]</text>\n<text text-anchor=\"middle\" x=\"665.5\" y=\"-7.8\" font-family=\"Helvetica,sans-Serif\" font-size=\"14.00\">class = bad</text>\n</g>\n<!-- 13&#45;&gt;15 -->\n<g id=\"edge15\" class=\"edge\">\n<title>13&#45;&gt;15</title>\n<path fill=\"none\" stroke=\"black\" d=\"M592.02,-88.95C603.29,-79.53 615.55,-69.27 626.77,-59.89\"/>\n<polygon fill=\"black\" stroke=\"black\" points=\"629.3,-62.34 634.72,-53.24 624.81,-56.97 629.3,-62.34\"/>\n</g>\n<!-- 18 -->\n<g id=\"node19\" class=\"node\">\n<title>18</title>\n<polygon fill=\"#70b8ec\" stroke=\"black\" points=\"951.5,-261 819.5,-261 819.5,-193 951.5,-193 951.5,-261\"/>\n<text text-anchor=\"middle\" x=\"885.5\" y=\"-245.8\" font-family=\"Helvetica,sans-Serif\" font-size=\"14.00\">sulphates &lt;= 0.475</text>\n<text text-anchor=\"middle\" x=\"885.5\" y=\"-230.8\" font-family=\"Helvetica,sans-Serif\" font-size=\"14.00\">samples = 46</text>\n<text text-anchor=\"middle\" x=\"885.5\" y=\"-215.8\" font-family=\"Helvetica,sans-Serif\" font-size=\"14.00\">value = [10, 36]</text>\n<text text-anchor=\"middle\" x=\"885.5\" y=\"-200.8\" font-family=\"Helvetica,sans-Serif\" font-size=\"14.00\">class = good</text>\n</g>\n<!-- 17&#45;&gt;18 -->\n<g id=\"edge18\" class=\"edge\">\n<title>17&#45;&gt;18</title>\n<path fill=\"none\" stroke=\"black\" d=\"M931.42,-296.88C925.66,-288.24 919.38,-278.82 913.36,-269.79\"/>\n<polygon fill=\"black\" stroke=\"black\" points=\"916.16,-267.68 907.7,-261.3 910.33,-271.56 916.16,-267.68\"/>\n</g>\n<!-- 23 -->\n<g id=\"node24\" class=\"node\">\n<title>23</title>\n<polygon fill=\"#399de5\" stroke=\"black\" points=\"1071.5,-253.5 969.5,-253.5 969.5,-200.5 1071.5,-200.5 1071.5,-253.5\"/>\n<text text-anchor=\"middle\" x=\"1020.5\" y=\"-238.3\" font-family=\"Helvetica,sans-Serif\" font-size=\"14.00\">samples = 12</text>\n<text text-anchor=\"middle\" x=\"1020.5\" y=\"-223.3\" font-family=\"Helvetica,sans-Serif\" font-size=\"14.00\">value = [0, 12]</text>\n<text text-anchor=\"middle\" x=\"1020.5\" y=\"-208.3\" font-family=\"Helvetica,sans-Serif\" font-size=\"14.00\">class = good</text>\n</g>\n<!-- 17&#45;&gt;23 -->\n<g id=\"edge23\" class=\"edge\">\n<title>17&#45;&gt;23</title>\n<path fill=\"none\" stroke=\"black\" d=\"M975.25,-296.88C982.55,-285.78 990.7,-273.37 998.05,-262.18\"/>\n<polygon fill=\"black\" stroke=\"black\" points=\"1001.17,-263.8 1003.74,-253.52 995.32,-259.96 1001.17,-263.8\"/>\n</g>\n<!-- 19 -->\n<g id=\"node20\" class=\"node\">\n<title>19</title>\n<polygon fill=\"#eeab7b\" stroke=\"black\" points=\"843,-149.5 748,-149.5 748,-96.5 843,-96.5 843,-149.5\"/>\n<text text-anchor=\"middle\" x=\"795.5\" y=\"-134.3\" font-family=\"Helvetica,sans-Serif\" font-size=\"14.00\">samples = 4</text>\n<text text-anchor=\"middle\" x=\"795.5\" y=\"-119.3\" font-family=\"Helvetica,sans-Serif\" font-size=\"14.00\">value = [3, 1]</text>\n<text text-anchor=\"middle\" x=\"795.5\" y=\"-104.3\" font-family=\"Helvetica,sans-Serif\" font-size=\"14.00\">class = bad</text>\n</g>\n<!-- 18&#45;&gt;19 -->\n<g id=\"edge19\" class=\"edge\">\n<title>18&#45;&gt;19</title>\n<path fill=\"none\" stroke=\"black\" d=\"M856.28,-192.88C846.19,-181.45 834.88,-168.63 824.79,-157.19\"/>\n<polygon fill=\"black\" stroke=\"black\" points=\"827.26,-154.7 818.02,-149.52 822.01,-159.33 827.26,-154.7\"/>\n</g>\n<!-- 20 -->\n<g id=\"node21\" class=\"node\">\n<title>20</title>\n<polygon fill=\"#61b1ea\" stroke=\"black\" points=\"1027.5,-157 861.5,-157 861.5,-89 1027.5,-89 1027.5,-157\"/>\n<text text-anchor=\"middle\" x=\"944.5\" y=\"-141.8\" font-family=\"Helvetica,sans-Serif\" font-size=\"14.00\">free sulfur dioxide &lt;= 8.5</text>\n<text text-anchor=\"middle\" x=\"944.5\" y=\"-126.8\" font-family=\"Helvetica,sans-Serif\" font-size=\"14.00\">samples = 42</text>\n<text text-anchor=\"middle\" x=\"944.5\" y=\"-111.8\" font-family=\"Helvetica,sans-Serif\" font-size=\"14.00\">value = [7, 35]</text>\n<text text-anchor=\"middle\" x=\"944.5\" y=\"-96.8\" font-family=\"Helvetica,sans-Serif\" font-size=\"14.00\">class = good</text>\n</g>\n<!-- 18&#45;&gt;20 -->\n<g id=\"edge20\" class=\"edge\">\n<title>18&#45;&gt;20</title>\n<path fill=\"none\" stroke=\"black\" d=\"M904.66,-192.88C909.6,-184.33 914.99,-175.01 920.16,-166.07\"/>\n<polygon fill=\"black\" stroke=\"black\" points=\"923.26,-167.71 925.24,-157.3 917.2,-164.2 923.26,-167.71\"/>\n</g>\n<!-- 21 -->\n<g id=\"node22\" class=\"node\">\n<title>21</title>\n<polygon fill=\"#4da7e8\" stroke=\"black\" points=\"877.5,-53 775.5,-53 775.5,0 877.5,0 877.5,-53\"/>\n<text text-anchor=\"middle\" x=\"826.5\" y=\"-37.8\" font-family=\"Helvetica,sans-Serif\" font-size=\"14.00\">samples = 32</text>\n<text text-anchor=\"middle\" x=\"826.5\" y=\"-22.8\" font-family=\"Helvetica,sans-Serif\" font-size=\"14.00\">value = [3, 29]</text>\n<text text-anchor=\"middle\" x=\"826.5\" y=\"-7.8\" font-family=\"Helvetica,sans-Serif\" font-size=\"14.00\">class = good</text>\n</g>\n<!-- 20&#45;&gt;21 -->\n<g id=\"edge21\" class=\"edge\">\n<title>20&#45;&gt;21</title>\n<path fill=\"none\" stroke=\"black\" d=\"M903.23,-88.95C891.35,-79.43 878.41,-69.07 866.6,-59.62\"/>\n<polygon fill=\"black\" stroke=\"black\" points=\"868.63,-56.76 858.64,-53.24 864.25,-62.22 868.63,-56.76\"/>\n</g>\n<!-- 22 -->\n<g id=\"node23\" class=\"node\">\n<title>22</title>\n<polygon fill=\"#bddef6\" stroke=\"black\" points=\"993.5,-53 895.5,-53 895.5,0 993.5,0 993.5,-53\"/>\n<text text-anchor=\"middle\" x=\"944.5\" y=\"-37.8\" font-family=\"Helvetica,sans-Serif\" font-size=\"14.00\">samples = 10</text>\n<text text-anchor=\"middle\" x=\"944.5\" y=\"-22.8\" font-family=\"Helvetica,sans-Serif\" font-size=\"14.00\">value = [4, 6]</text>\n<text text-anchor=\"middle\" x=\"944.5\" y=\"-7.8\" font-family=\"Helvetica,sans-Serif\" font-size=\"14.00\">class = good</text>\n</g>\n<!-- 20&#45;&gt;22 -->\n<g id=\"edge22\" class=\"edge\">\n<title>20&#45;&gt;22</title>\n<path fill=\"none\" stroke=\"black\" d=\"M944.5,-88.95C944.5,-80.72 944.5,-71.85 944.5,-63.48\"/>\n<polygon fill=\"black\" stroke=\"black\" points=\"948,-63.24 944.5,-53.24 941,-63.24 948,-63.24\"/>\n</g>\n<!-- 25 -->\n<g id=\"node26\" class=\"node\">\n<title>25</title>\n<polygon fill=\"#f4c9aa\" stroke=\"black\" points=\"1897.5,-469 1739.5,-469 1739.5,-401 1897.5,-401 1897.5,-469\"/>\n<text text-anchor=\"middle\" x=\"1818.5\" y=\"-453.8\" font-family=\"Helvetica,sans-Serif\" font-size=\"14.00\">volatile acidity &lt;= 0.405</text>\n<text text-anchor=\"middle\" x=\"1818.5\" y=\"-438.8\" font-family=\"Helvetica,sans-Serif\" font-size=\"14.00\">samples = 592</text>\n<text text-anchor=\"middle\" x=\"1818.5\" y=\"-423.8\" font-family=\"Helvetica,sans-Serif\" font-size=\"14.00\">value = [377, 215]</text>\n<text text-anchor=\"middle\" x=\"1818.5\" y=\"-408.8\" font-family=\"Helvetica,sans-Serif\" font-size=\"14.00\">class = bad</text>\n</g>\n<!-- 24&#45;&gt;25 -->\n<g id=\"edge25\" class=\"edge\">\n<title>24&#45;&gt;25</title>\n<path fill=\"none\" stroke=\"black\" d=\"M1818.5,-504.88C1818.5,-496.78 1818.5,-487.98 1818.5,-479.47\"/>\n<polygon fill=\"black\" stroke=\"black\" points=\"1822,-479.3 1818.5,-469.3 1815,-479.3 1822,-479.3\"/>\n</g>\n<!-- 54 -->\n<g id=\"node55\" class=\"node\">\n<title>54</title>\n<polygon fill=\"#75bbed\" stroke=\"black\" points=\"2913,-469 2796,-469 2796,-401 2913,-401 2913,-469\"/>\n<text text-anchor=\"middle\" x=\"2854.5\" y=\"-453.8\" font-family=\"Helvetica,sans-Serif\" font-size=\"14.00\">alcohol &lt;= 11.25</text>\n<text text-anchor=\"middle\" x=\"2854.5\" y=\"-438.8\" font-family=\"Helvetica,sans-Serif\" font-size=\"14.00\">samples = 249</text>\n<text text-anchor=\"middle\" x=\"2854.5\" y=\"-423.8\" font-family=\"Helvetica,sans-Serif\" font-size=\"14.00\">value = [58, 191]</text>\n<text text-anchor=\"middle\" x=\"2854.5\" y=\"-408.8\" font-family=\"Helvetica,sans-Serif\" font-size=\"14.00\">class = good</text>\n</g>\n<!-- 24&#45;&gt;54 -->\n<g id=\"edge54\" class=\"edge\">\n<title>24&#45;&gt;54</title>\n<path fill=\"none\" stroke=\"black\" d=\"M1892.18,-530.75C2084.41,-511.82 2599.2,-461.14 2785.77,-442.77\"/>\n<polygon fill=\"black\" stroke=\"black\" points=\"2786.12,-446.25 2795.73,-441.79 2785.44,-439.28 2786.12,-446.25\"/>\n</g>\n<!-- 26 -->\n<g id=\"node27\" class=\"node\">\n<title>26</title>\n<polygon fill=\"#c8e4f8\" stroke=\"black\" points=\"1564.5,-365 1432.5,-365 1432.5,-297 1564.5,-297 1564.5,-365\"/>\n<text text-anchor=\"middle\" x=\"1498.5\" y=\"-349.8\" font-family=\"Helvetica,sans-Serif\" font-size=\"14.00\">sulphates &lt;= 0.655</text>\n<text text-anchor=\"middle\" x=\"1498.5\" y=\"-334.8\" font-family=\"Helvetica,sans-Serif\" font-size=\"14.00\">samples = 119</text>\n<text text-anchor=\"middle\" x=\"1498.5\" y=\"-319.8\" font-family=\"Helvetica,sans-Serif\" font-size=\"14.00\">value = [50, 69]</text>\n<text text-anchor=\"middle\" x=\"1498.5\" y=\"-304.8\" font-family=\"Helvetica,sans-Serif\" font-size=\"14.00\">class = good</text>\n</g>\n<!-- 25&#45;&gt;26 -->\n<g id=\"edge26\" class=\"edge\">\n<title>25&#45;&gt;26</title>\n<path fill=\"none\" stroke=\"black\" d=\"M1739.4,-408.79C1688.99,-392.72 1624.05,-372.02 1574.3,-356.16\"/>\n<polygon fill=\"black\" stroke=\"black\" points=\"1575.15,-352.76 1564.56,-353.06 1573.02,-359.43 1575.15,-352.76\"/>\n</g>\n<!-- 39 -->\n<g id=\"node40\" class=\"node\">\n<title>39</title>\n<polygon fill=\"#f1b991\" stroke=\"black\" points=\"2034,-365 1909,-365 1909,-297 2034,-297 2034,-365\"/>\n<text text-anchor=\"middle\" x=\"1971.5\" y=\"-349.8\" font-family=\"Helvetica,sans-Serif\" font-size=\"14.00\">alcohol &lt;= 9.85</text>\n<text text-anchor=\"middle\" x=\"1971.5\" y=\"-334.8\" font-family=\"Helvetica,sans-Serif\" font-size=\"14.00\">samples = 473</text>\n<text text-anchor=\"middle\" x=\"1971.5\" y=\"-319.8\" font-family=\"Helvetica,sans-Serif\" font-size=\"14.00\">value = [327, 146]</text>\n<text text-anchor=\"middle\" x=\"1971.5\" y=\"-304.8\" font-family=\"Helvetica,sans-Serif\" font-size=\"14.00\">class = bad</text>\n</g>\n<!-- 25&#45;&gt;39 -->\n<g id=\"edge39\" class=\"edge\">\n<title>25&#45;&gt;39</title>\n<path fill=\"none\" stroke=\"black\" d=\"M1868.17,-400.88C1882.54,-391.3 1898.36,-380.76 1913.2,-370.86\"/>\n<polygon fill=\"black\" stroke=\"black\" points=\"1915.43,-373.58 1921.81,-365.12 1911.55,-367.76 1915.43,-373.58\"/>\n</g>\n<!-- 27 -->\n<g id=\"node28\" class=\"node\">\n<title>27</title>\n<polygon fill=\"#f5cdb1\" stroke=\"black\" points=\"1342.5,-261 1214.5,-261 1214.5,-193 1342.5,-193 1342.5,-261\"/>\n<text text-anchor=\"middle\" x=\"1278.5\" y=\"-245.8\" font-family=\"Helvetica,sans-Serif\" font-size=\"14.00\">chlorides &lt;= 0.091</text>\n<text text-anchor=\"middle\" x=\"1278.5\" y=\"-230.8\" font-family=\"Helvetica,sans-Serif\" font-size=\"14.00\">samples = 53</text>\n<text text-anchor=\"middle\" x=\"1278.5\" y=\"-215.8\" font-family=\"Helvetica,sans-Serif\" font-size=\"14.00\">value = [33, 20]</text>\n<text text-anchor=\"middle\" x=\"1278.5\" y=\"-200.8\" font-family=\"Helvetica,sans-Serif\" font-size=\"14.00\">class = bad</text>\n</g>\n<!-- 26&#45;&gt;27 -->\n<g id=\"edge27\" class=\"edge\">\n<title>26&#45;&gt;27</title>\n<path fill=\"none\" stroke=\"black\" d=\"M1432.49,-299.4C1407.02,-287.59 1377.78,-274.03 1351.66,-261.92\"/>\n<polygon fill=\"black\" stroke=\"black\" points=\"1353.11,-258.74 1342.57,-257.7 1350.17,-265.09 1353.11,-258.74\"/>\n</g>\n<!-- 32 -->\n<g id=\"node33\" class=\"node\">\n<title>32</title>\n<polygon fill=\"#7ebfee\" stroke=\"black\" points=\"1561,-261 1436,-261 1436,-193 1561,-193 1561,-261\"/>\n<text text-anchor=\"middle\" x=\"1498.5\" y=\"-245.8\" font-family=\"Helvetica,sans-Serif\" font-size=\"14.00\">sulphates &lt;= 0.98</text>\n<text text-anchor=\"middle\" x=\"1498.5\" y=\"-230.8\" font-family=\"Helvetica,sans-Serif\" font-size=\"14.00\">samples = 66</text>\n<text text-anchor=\"middle\" x=\"1498.5\" y=\"-215.8\" font-family=\"Helvetica,sans-Serif\" font-size=\"14.00\">value = [17, 49]</text>\n<text text-anchor=\"middle\" x=\"1498.5\" y=\"-200.8\" font-family=\"Helvetica,sans-Serif\" font-size=\"14.00\">class = good</text>\n</g>\n<!-- 26&#45;&gt;32 -->\n<g id=\"edge32\" class=\"edge\">\n<title>26&#45;&gt;32</title>\n<path fill=\"none\" stroke=\"black\" d=\"M1498.5,-296.88C1498.5,-288.78 1498.5,-279.98 1498.5,-271.47\"/>\n<polygon fill=\"black\" stroke=\"black\" points=\"1502,-271.3 1498.5,-261.3 1495,-271.3 1502,-271.3\"/>\n</g>\n<!-- 28 -->\n<g id=\"node29\" class=\"node\">\n<title>28</title>\n<polygon fill=\"#ffffff\" stroke=\"black\" points=\"1209.5,-157 1099.5,-157 1099.5,-89 1209.5,-89 1209.5,-157\"/>\n<text text-anchor=\"middle\" x=\"1154.5\" y=\"-141.8\" font-family=\"Helvetica,sans-Serif\" font-size=\"14.00\">alcohol &lt;= 9.45</text>\n<text text-anchor=\"middle\" x=\"1154.5\" y=\"-126.8\" font-family=\"Helvetica,sans-Serif\" font-size=\"14.00\">samples = 40</text>\n<text text-anchor=\"middle\" x=\"1154.5\" y=\"-111.8\" font-family=\"Helvetica,sans-Serif\" font-size=\"14.00\">value = [20, 20]</text>\n<text text-anchor=\"middle\" x=\"1154.5\" y=\"-96.8\" font-family=\"Helvetica,sans-Serif\" font-size=\"14.00\">class = bad</text>\n</g>\n<!-- 27&#45;&gt;28 -->\n<g id=\"edge28\" class=\"edge\">\n<title>27&#45;&gt;28</title>\n<path fill=\"none\" stroke=\"black\" d=\"M1238.24,-192.88C1226.98,-183.62 1214.62,-173.45 1202.94,-163.85\"/>\n<polygon fill=\"black\" stroke=\"black\" points=\"1204.93,-160.95 1194.98,-157.3 1200.48,-166.36 1204.93,-160.95\"/>\n</g>\n<!-- 31 -->\n<g id=\"node32\" class=\"node\">\n<title>31</title>\n<polygon fill=\"#e58139\" stroke=\"black\" points=\"1329.5,-149.5 1227.5,-149.5 1227.5,-96.5 1329.5,-96.5 1329.5,-149.5\"/>\n<text text-anchor=\"middle\" x=\"1278.5\" y=\"-134.3\" font-family=\"Helvetica,sans-Serif\" font-size=\"14.00\">samples = 13</text>\n<text text-anchor=\"middle\" x=\"1278.5\" y=\"-119.3\" font-family=\"Helvetica,sans-Serif\" font-size=\"14.00\">value = [13, 0]</text>\n<text text-anchor=\"middle\" x=\"1278.5\" y=\"-104.3\" font-family=\"Helvetica,sans-Serif\" font-size=\"14.00\">class = bad</text>\n</g>\n<!-- 27&#45;&gt;31 -->\n<g id=\"edge31\" class=\"edge\">\n<title>27&#45;&gt;31</title>\n<path fill=\"none\" stroke=\"black\" d=\"M1278.5,-192.88C1278.5,-182.33 1278.5,-170.6 1278.5,-159.85\"/>\n<polygon fill=\"black\" stroke=\"black\" points=\"1282,-159.52 1278.5,-149.52 1275,-159.52 1282,-159.52\"/>\n</g>\n<!-- 29 -->\n<g id=\"node30\" class=\"node\">\n<title>29</title>\n<polygon fill=\"#f1ba93\" stroke=\"black\" points=\"1113.5,-53 1011.5,-53 1011.5,0 1113.5,0 1113.5,-53\"/>\n<text text-anchor=\"middle\" x=\"1062.5\" y=\"-37.8\" font-family=\"Helvetica,sans-Serif\" font-size=\"14.00\">samples = 16</text>\n<text text-anchor=\"middle\" x=\"1062.5\" y=\"-22.8\" font-family=\"Helvetica,sans-Serif\" font-size=\"14.00\">value = [11, 5]</text>\n<text text-anchor=\"middle\" x=\"1062.5\" y=\"-7.8\" font-family=\"Helvetica,sans-Serif\" font-size=\"14.00\">class = bad</text>\n</g>\n<!-- 28&#45;&gt;29 -->\n<g id=\"edge29\" class=\"edge\">\n<title>28&#45;&gt;29</title>\n<path fill=\"none\" stroke=\"black\" d=\"M1122.32,-88.95C1113.33,-79.71 1103.56,-69.67 1094.57,-60.44\"/>\n<polygon fill=\"black\" stroke=\"black\" points=\"1097.04,-57.96 1087.56,-53.24 1092.02,-62.84 1097.04,-57.96\"/>\n</g>\n<!-- 30 -->\n<g id=\"node31\" class=\"node\">\n<title>30</title>\n<polygon fill=\"#b0d8f5\" stroke=\"black\" points=\"1233.5,-53 1131.5,-53 1131.5,0 1233.5,0 1233.5,-53\"/>\n<text text-anchor=\"middle\" x=\"1182.5\" y=\"-37.8\" font-family=\"Helvetica,sans-Serif\" font-size=\"14.00\">samples = 24</text>\n<text text-anchor=\"middle\" x=\"1182.5\" y=\"-22.8\" font-family=\"Helvetica,sans-Serif\" font-size=\"14.00\">value = [9, 15]</text>\n<text text-anchor=\"middle\" x=\"1182.5\" y=\"-7.8\" font-family=\"Helvetica,sans-Serif\" font-size=\"14.00\">class = good</text>\n</g>\n<!-- 28&#45;&gt;30 -->\n<g id=\"edge30\" class=\"edge\">\n<title>28&#45;&gt;30</title>\n<path fill=\"none\" stroke=\"black\" d=\"M1164.29,-88.95C1166.79,-80.53 1169.48,-71.45 1172,-62.92\"/>\n<polygon fill=\"black\" stroke=\"black\" points=\"1175.39,-63.82 1174.87,-53.24 1168.68,-61.83 1175.39,-63.82\"/>\n</g>\n<!-- 33 -->\n<g id=\"node34\" class=\"node\">\n<title>33</title>\n<polygon fill=\"#6eb7ec\" stroke=\"black\" points=\"1505.5,-157 1347.5,-157 1347.5,-89 1505.5,-89 1505.5,-157\"/>\n<text text-anchor=\"middle\" x=\"1426.5\" y=\"-141.8\" font-family=\"Helvetica,sans-Serif\" font-size=\"14.00\">volatile acidity &lt;= 0.265</text>\n<text text-anchor=\"middle\" x=\"1426.5\" y=\"-126.8\" font-family=\"Helvetica,sans-Serif\" font-size=\"14.00\">samples = 57</text>\n<text text-anchor=\"middle\" x=\"1426.5\" y=\"-111.8\" font-family=\"Helvetica,sans-Serif\" font-size=\"14.00\">value = [12, 45]</text>\n<text text-anchor=\"middle\" x=\"1426.5\" y=\"-96.8\" font-family=\"Helvetica,sans-Serif\" font-size=\"14.00\">class = good</text>\n</g>\n<!-- 32&#45;&gt;33 -->\n<g id=\"edge33\" class=\"edge\">\n<title>32&#45;&gt;33</title>\n<path fill=\"none\" stroke=\"black\" d=\"M1475.12,-192.88C1468.96,-184.15 1462.24,-174.62 1455.8,-165.51\"/>\n<polygon fill=\"black\" stroke=\"black\" points=\"1458.63,-163.45 1450.01,-157.3 1452.91,-167.49 1458.63,-163.45\"/>\n</g>\n<!-- 36 -->\n<g id=\"node37\" class=\"node\">\n<title>36</title>\n<polygon fill=\"#fae6d7\" stroke=\"black\" points=\"1619,-157 1524,-157 1524,-89 1619,-89 1619,-157\"/>\n<text text-anchor=\"middle\" x=\"1571.5\" y=\"-141.8\" font-family=\"Helvetica,sans-Serif\" font-size=\"14.00\">pH &lt;= 3.125</text>\n<text text-anchor=\"middle\" x=\"1571.5\" y=\"-126.8\" font-family=\"Helvetica,sans-Serif\" font-size=\"14.00\">samples = 9</text>\n<text text-anchor=\"middle\" x=\"1571.5\" y=\"-111.8\" font-family=\"Helvetica,sans-Serif\" font-size=\"14.00\">value = [5, 4]</text>\n<text text-anchor=\"middle\" x=\"1571.5\" y=\"-96.8\" font-family=\"Helvetica,sans-Serif\" font-size=\"14.00\">class = bad</text>\n</g>\n<!-- 32&#45;&gt;36 -->\n<g id=\"edge36\" class=\"edge\">\n<title>32&#45;&gt;36</title>\n<path fill=\"none\" stroke=\"black\" d=\"M1522.2,-192.88C1528.45,-184.15 1535.27,-174.62 1541.79,-165.51\"/>\n<polygon fill=\"black\" stroke=\"black\" points=\"1544.69,-167.47 1547.67,-157.3 1539,-163.39 1544.69,-167.47\"/>\n</g>\n<!-- 34 -->\n<g id=\"node35\" class=\"node\">\n<title>34</title>\n<polygon fill=\"#47a4e7\" stroke=\"black\" points=\"1353.5,-53 1251.5,-53 1251.5,0 1353.5,0 1353.5,-53\"/>\n<text text-anchor=\"middle\" x=\"1302.5\" y=\"-37.8\" font-family=\"Helvetica,sans-Serif\" font-size=\"14.00\">samples = 15</text>\n<text text-anchor=\"middle\" x=\"1302.5\" y=\"-22.8\" font-family=\"Helvetica,sans-Serif\" font-size=\"14.00\">value = [1, 14]</text>\n<text text-anchor=\"middle\" x=\"1302.5\" y=\"-7.8\" font-family=\"Helvetica,sans-Serif\" font-size=\"14.00\">class = good</text>\n</g>\n<!-- 33&#45;&gt;34 -->\n<g id=\"edge34\" class=\"edge\">\n<title>33&#45;&gt;34</title>\n<path fill=\"none\" stroke=\"black\" d=\"M1383.13,-88.95C1370.53,-79.34 1356.79,-68.87 1344.29,-59.34\"/>\n<polygon fill=\"black\" stroke=\"black\" points=\"1346.35,-56.51 1336.27,-53.24 1342.1,-62.08 1346.35,-56.51\"/>\n</g>\n<!-- 35 -->\n<g id=\"node36\" class=\"node\">\n<title>35</title>\n<polygon fill=\"#7fc0ee\" stroke=\"black\" points=\"1481.5,-53 1371.5,-53 1371.5,0 1481.5,0 1481.5,-53\"/>\n<text text-anchor=\"middle\" x=\"1426.5\" y=\"-37.8\" font-family=\"Helvetica,sans-Serif\" font-size=\"14.00\">samples = 42</text>\n<text text-anchor=\"middle\" x=\"1426.5\" y=\"-22.8\" font-family=\"Helvetica,sans-Serif\" font-size=\"14.00\">value = [11, 31]</text>\n<text text-anchor=\"middle\" x=\"1426.5\" y=\"-7.8\" font-family=\"Helvetica,sans-Serif\" font-size=\"14.00\">class = good</text>\n</g>\n<!-- 33&#45;&gt;35 -->\n<g id=\"edge35\" class=\"edge\">\n<title>33&#45;&gt;35</title>\n<path fill=\"none\" stroke=\"black\" d=\"M1426.5,-88.95C1426.5,-80.72 1426.5,-71.85 1426.5,-63.48\"/>\n<polygon fill=\"black\" stroke=\"black\" points=\"1430,-63.24 1426.5,-53.24 1423,-63.24 1430,-63.24\"/>\n</g>\n<!-- 37 -->\n<g id=\"node38\" class=\"node\">\n<title>37</title>\n<polygon fill=\"#bddef6\" stroke=\"black\" points=\"1595,-53 1500,-53 1500,0 1595,0 1595,-53\"/>\n<text text-anchor=\"middle\" x=\"1547.5\" y=\"-37.8\" font-family=\"Helvetica,sans-Serif\" font-size=\"14.00\">samples = 5</text>\n<text text-anchor=\"middle\" x=\"1547.5\" y=\"-22.8\" font-family=\"Helvetica,sans-Serif\" font-size=\"14.00\">value = [2, 3]</text>\n<text text-anchor=\"middle\" x=\"1547.5\" y=\"-7.8\" font-family=\"Helvetica,sans-Serif\" font-size=\"14.00\">class = good</text>\n</g>\n<!-- 36&#45;&gt;37 -->\n<g id=\"edge37\" class=\"edge\">\n<title>36&#45;&gt;37</title>\n<path fill=\"none\" stroke=\"black\" d=\"M1563.11,-88.95C1560.99,-80.62 1558.71,-71.65 1556.57,-63.2\"/>\n<polygon fill=\"black\" stroke=\"black\" points=\"1559.89,-62.07 1554.04,-53.24 1553.11,-63.79 1559.89,-62.07\"/>\n</g>\n<!-- 38 -->\n<g id=\"node39\" class=\"node\">\n<title>38</title>\n<polygon fill=\"#eeab7b\" stroke=\"black\" points=\"1708,-53 1613,-53 1613,0 1708,0 1708,-53\"/>\n<text text-anchor=\"middle\" x=\"1660.5\" y=\"-37.8\" font-family=\"Helvetica,sans-Serif\" font-size=\"14.00\">samples = 4</text>\n<text text-anchor=\"middle\" x=\"1660.5\" y=\"-22.8\" font-family=\"Helvetica,sans-Serif\" font-size=\"14.00\">value = [3, 1]</text>\n<text text-anchor=\"middle\" x=\"1660.5\" y=\"-7.8\" font-family=\"Helvetica,sans-Serif\" font-size=\"14.00\">class = bad</text>\n</g>\n<!-- 36&#45;&gt;38 -->\n<g id=\"edge38\" class=\"edge\">\n<title>36&#45;&gt;38</title>\n<path fill=\"none\" stroke=\"black\" d=\"M1602.63,-88.95C1611.24,-79.8 1620.6,-69.87 1629.22,-60.71\"/>\n<polygon fill=\"black\" stroke=\"black\" points=\"1631.95,-62.92 1636.26,-53.24 1626.86,-58.12 1631.95,-62.92\"/>\n</g>\n<!-- 40 -->\n<g id=\"node41\" class=\"node\">\n<title>40</title>\n<polygon fill=\"#eeab7b\" stroke=\"black\" points=\"2030,-261 1913,-261 1913,-193 2030,-193 2030,-261\"/>\n<text text-anchor=\"middle\" x=\"1971.5\" y=\"-245.8\" font-family=\"Helvetica,sans-Serif\" font-size=\"14.00\">pH &lt;= 3.265</text>\n<text text-anchor=\"middle\" x=\"1971.5\" y=\"-230.8\" font-family=\"Helvetica,sans-Serif\" font-size=\"14.00\">samples = 316</text>\n<text text-anchor=\"middle\" x=\"1971.5\" y=\"-215.8\" font-family=\"Helvetica,sans-Serif\" font-size=\"14.00\">value = [237, 79]</text>\n<text text-anchor=\"middle\" x=\"1971.5\" y=\"-200.8\" font-family=\"Helvetica,sans-Serif\" font-size=\"14.00\">class = bad</text>\n</g>\n<!-- 39&#45;&gt;40 -->\n<g id=\"edge40\" class=\"edge\">\n<title>39&#45;&gt;40</title>\n<path fill=\"none\" stroke=\"black\" d=\"M1971.5,-296.88C1971.5,-288.78 1971.5,-279.98 1971.5,-271.47\"/>\n<polygon fill=\"black\" stroke=\"black\" points=\"1975,-271.3 1971.5,-261.3 1968,-271.3 1975,-271.3\"/>\n</g>\n<!-- 47 -->\n<g id=\"node48\" class=\"node\">\n<title>47</title>\n<polygon fill=\"#f8dfcc\" stroke=\"black\" points=\"2406.5,-261 2230.5,-261 2230.5,-193 2406.5,-193 2406.5,-261\"/>\n<text text-anchor=\"middle\" x=\"2318.5\" y=\"-245.8\" font-family=\"Helvetica,sans-Serif\" font-size=\"14.00\">total sulfur dioxide &lt;= 77.0</text>\n<text text-anchor=\"middle\" x=\"2318.5\" y=\"-230.8\" font-family=\"Helvetica,sans-Serif\" font-size=\"14.00\">samples = 157</text>\n<text text-anchor=\"middle\" x=\"2318.5\" y=\"-215.8\" font-family=\"Helvetica,sans-Serif\" font-size=\"14.00\">value = [90, 67]</text>\n<text text-anchor=\"middle\" x=\"2318.5\" y=\"-200.8\" font-family=\"Helvetica,sans-Serif\" font-size=\"14.00\">class = bad</text>\n</g>\n<!-- 39&#45;&gt;47 -->\n<g id=\"edge47\" class=\"edge\">\n<title>39&#45;&gt;47</title>\n<path fill=\"none\" stroke=\"black\" d=\"M2034.34,-311.53C2086.23,-296.27 2160.8,-274.36 2220.52,-256.8\"/>\n<polygon fill=\"black\" stroke=\"black\" points=\"2221.75,-260.09 2230.35,-253.91 2219.77,-253.37 2221.75,-260.09\"/>\n</g>\n<!-- 41 -->\n<g id=\"node42\" class=\"node\">\n<title>41</title>\n<polygon fill=\"#eb9c63\" stroke=\"black\" points=\"1952,-157 1835,-157 1835,-89 1952,-89 1952,-157\"/>\n<text text-anchor=\"middle\" x=\"1893.5\" y=\"-141.8\" font-family=\"Helvetica,sans-Serif\" font-size=\"14.00\">density &lt;= 0.999</text>\n<text text-anchor=\"middle\" x=\"1893.5\" y=\"-126.8\" font-family=\"Helvetica,sans-Serif\" font-size=\"14.00\">samples = 136</text>\n<text text-anchor=\"middle\" x=\"1893.5\" y=\"-111.8\" font-family=\"Helvetica,sans-Serif\" font-size=\"14.00\">value = [112, 24]</text>\n<text text-anchor=\"middle\" x=\"1893.5\" y=\"-96.8\" font-family=\"Helvetica,sans-Serif\" font-size=\"14.00\">class = bad</text>\n</g>\n<!-- 40&#45;&gt;41 -->\n<g id=\"edge41\" class=\"edge\">\n<title>40&#45;&gt;41</title>\n<path fill=\"none\" stroke=\"black\" d=\"M1946.18,-192.88C1939.5,-184.15 1932.21,-174.62 1925.25,-165.51\"/>\n<polygon fill=\"black\" stroke=\"black\" points=\"1927.82,-163.12 1918.96,-157.3 1922.26,-167.37 1927.82,-163.12\"/>\n</g>\n<!-- 44 -->\n<g id=\"node45\" class=\"node\">\n<title>44</title>\n<polygon fill=\"#f0b890\" stroke=\"black\" points=\"2128.5,-157 1970.5,-157 1970.5,-89 2128.5,-89 2128.5,-157\"/>\n<text text-anchor=\"middle\" x=\"2049.5\" y=\"-141.8\" font-family=\"Helvetica,sans-Serif\" font-size=\"14.00\">volatile acidity &lt;= 0.632</text>\n<text text-anchor=\"middle\" x=\"2049.5\" y=\"-126.8\" font-family=\"Helvetica,sans-Serif\" font-size=\"14.00\">samples = 180</text>\n<text text-anchor=\"middle\" x=\"2049.5\" y=\"-111.8\" font-family=\"Helvetica,sans-Serif\" font-size=\"14.00\">value = [125.0, 55.0]</text>\n<text text-anchor=\"middle\" x=\"2049.5\" y=\"-96.8\" font-family=\"Helvetica,sans-Serif\" font-size=\"14.00\">class = bad</text>\n</g>\n<!-- 40&#45;&gt;44 -->\n<g id=\"edge44\" class=\"edge\">\n<title>40&#45;&gt;44</title>\n<path fill=\"none\" stroke=\"black\" d=\"M1996.82,-192.88C2003.5,-184.15 2010.79,-174.62 2017.75,-165.51\"/>\n<polygon fill=\"black\" stroke=\"black\" points=\"2020.74,-167.37 2024.04,-157.3 2015.18,-163.12 2020.74,-167.37\"/>\n</g>\n<!-- 42 -->\n<g id=\"node43\" class=\"node\">\n<title>42</title>\n<polygon fill=\"#e99457\" stroke=\"black\" points=\"1843,-53 1726,-53 1726,0 1843,0 1843,-53\"/>\n<text text-anchor=\"middle\" x=\"1784.5\" y=\"-37.8\" font-family=\"Helvetica,sans-Serif\" font-size=\"14.00\">samples = 120</text>\n<text text-anchor=\"middle\" x=\"1784.5\" y=\"-22.8\" font-family=\"Helvetica,sans-Serif\" font-size=\"14.00\">value = [104, 16]</text>\n<text text-anchor=\"middle\" x=\"1784.5\" y=\"-7.8\" font-family=\"Helvetica,sans-Serif\" font-size=\"14.00\">class = bad</text>\n</g>\n<!-- 41&#45;&gt;42 -->\n<g id=\"edge42\" class=\"edge\">\n<title>41&#45;&gt;42</title>\n<path fill=\"none\" stroke=\"black\" d=\"M1855.38,-88.95C1844.51,-79.53 1832.68,-69.27 1821.86,-59.89\"/>\n<polygon fill=\"black\" stroke=\"black\" points=\"1824.03,-57.14 1814.19,-53.24 1819.45,-62.43 1824.03,-57.14\"/>\n</g>\n<!-- 43 -->\n<g id=\"node44\" class=\"node\">\n<title>43</title>\n<polygon fill=\"#ffffff\" stroke=\"black\" points=\"1959.5,-53 1861.5,-53 1861.5,0 1959.5,0 1959.5,-53\"/>\n<text text-anchor=\"middle\" x=\"1910.5\" y=\"-37.8\" font-family=\"Helvetica,sans-Serif\" font-size=\"14.00\">samples = 16</text>\n<text text-anchor=\"middle\" x=\"1910.5\" y=\"-22.8\" font-family=\"Helvetica,sans-Serif\" font-size=\"14.00\">value = [8, 8]</text>\n<text text-anchor=\"middle\" x=\"1910.5\" y=\"-7.8\" font-family=\"Helvetica,sans-Serif\" font-size=\"14.00\">class = bad</text>\n</g>\n<!-- 41&#45;&gt;43 -->\n<g id=\"edge43\" class=\"edge\">\n<title>41&#45;&gt;43</title>\n<path fill=\"none\" stroke=\"black\" d=\"M1899.45,-88.95C1900.94,-80.62 1902.56,-71.65 1904.08,-63.2\"/>\n<polygon fill=\"black\" stroke=\"black\" points=\"1907.54,-63.7 1905.87,-53.24 1900.65,-62.46 1907.54,-63.7\"/>\n</g>\n<!-- 45 -->\n<g id=\"node46\" class=\"node\">\n<title>45</title>\n<polygon fill=\"#f5ceb1\" stroke=\"black\" points=\"2087.5,-53 1977.5,-53 1977.5,0 2087.5,0 2087.5,-53\"/>\n<text text-anchor=\"middle\" x=\"2032.5\" y=\"-37.8\" font-family=\"Helvetica,sans-Serif\" font-size=\"14.00\">samples = 119</text>\n<text text-anchor=\"middle\" x=\"2032.5\" y=\"-22.8\" font-family=\"Helvetica,sans-Serif\" font-size=\"14.00\">value = [74, 45]</text>\n<text text-anchor=\"middle\" x=\"2032.5\" y=\"-7.8\" font-family=\"Helvetica,sans-Serif\" font-size=\"14.00\">class = bad</text>\n</g>\n<!-- 44&#45;&gt;45 -->\n<g id=\"edge45\" class=\"edge\">\n<title>44&#45;&gt;45</title>\n<path fill=\"none\" stroke=\"black\" d=\"M2043.55,-88.95C2042.06,-80.62 2040.44,-71.65 2038.92,-63.2\"/>\n<polygon fill=\"black\" stroke=\"black\" points=\"2042.35,-62.46 2037.13,-53.24 2035.46,-63.7 2042.35,-62.46\"/>\n</g>\n<!-- 46 -->\n<g id=\"node47\" class=\"node\">\n<title>46</title>\n<polygon fill=\"#ea9a60\" stroke=\"black\" points=\"2215.5,-53 2105.5,-53 2105.5,0 2215.5,0 2215.5,-53\"/>\n<text text-anchor=\"middle\" x=\"2160.5\" y=\"-37.8\" font-family=\"Helvetica,sans-Serif\" font-size=\"14.00\">samples = 61</text>\n<text text-anchor=\"middle\" x=\"2160.5\" y=\"-22.8\" font-family=\"Helvetica,sans-Serif\" font-size=\"14.00\">value = [51, 10]</text>\n<text text-anchor=\"middle\" x=\"2160.5\" y=\"-7.8\" font-family=\"Helvetica,sans-Serif\" font-size=\"14.00\">class = bad</text>\n</g>\n<!-- 44&#45;&gt;46 -->\n<g id=\"edge46\" class=\"edge\">\n<title>44&#45;&gt;46</title>\n<path fill=\"none\" stroke=\"black\" d=\"M2088.32,-88.95C2099.39,-79.53 2111.43,-69.27 2122.45,-59.89\"/>\n<polygon fill=\"black\" stroke=\"black\" points=\"2124.92,-62.38 2130.27,-53.24 2120.39,-57.05 2124.92,-62.38\"/>\n</g>\n<!-- 48 -->\n<g id=\"node49\" class=\"node\">\n<title>48</title>\n<polygon fill=\"#fffdfc\" stroke=\"black\" points=\"2406.5,-157 2230.5,-157 2230.5,-89 2406.5,-89 2406.5,-157\"/>\n<text text-anchor=\"middle\" x=\"2318.5\" y=\"-141.8\" font-family=\"Helvetica,sans-Serif\" font-size=\"14.00\">total sulfur dioxide &lt;= 13.5</text>\n<text text-anchor=\"middle\" x=\"2318.5\" y=\"-126.8\" font-family=\"Helvetica,sans-Serif\" font-size=\"14.00\">samples = 129</text>\n<text text-anchor=\"middle\" x=\"2318.5\" y=\"-111.8\" font-family=\"Helvetica,sans-Serif\" font-size=\"14.00\">value = [65, 64]</text>\n<text text-anchor=\"middle\" x=\"2318.5\" y=\"-96.8\" font-family=\"Helvetica,sans-Serif\" font-size=\"14.00\">class = bad</text>\n</g>\n<!-- 47&#45;&gt;48 -->\n<g id=\"edge48\" class=\"edge\">\n<title>47&#45;&gt;48</title>\n<path fill=\"none\" stroke=\"black\" d=\"M2318.5,-192.88C2318.5,-184.78 2318.5,-175.98 2318.5,-167.47\"/>\n<polygon fill=\"black\" stroke=\"black\" points=\"2322,-167.3 2318.5,-157.3 2315,-167.3 2322,-167.3\"/>\n</g>\n<!-- 51 -->\n<g id=\"node52\" class=\"node\">\n<title>51</title>\n<polygon fill=\"#e89051\" stroke=\"black\" points=\"2591.5,-157 2461.5,-157 2461.5,-89 2591.5,-89 2591.5,-157\"/>\n<text text-anchor=\"middle\" x=\"2526.5\" y=\"-141.8\" font-family=\"Helvetica,sans-Serif\" font-size=\"14.00\">fixed acidity &lt;= 8.3</text>\n<text text-anchor=\"middle\" x=\"2526.5\" y=\"-126.8\" font-family=\"Helvetica,sans-Serif\" font-size=\"14.00\">samples = 28</text>\n<text text-anchor=\"middle\" x=\"2526.5\" y=\"-111.8\" font-family=\"Helvetica,sans-Serif\" font-size=\"14.00\">value = [25, 3]</text>\n<text text-anchor=\"middle\" x=\"2526.5\" y=\"-96.8\" font-family=\"Helvetica,sans-Serif\" font-size=\"14.00\">class = bad</text>\n</g>\n<!-- 47&#45;&gt;51 -->\n<g id=\"edge51\" class=\"edge\">\n<title>47&#45;&gt;51</title>\n<path fill=\"none\" stroke=\"black\" d=\"M2386.03,-192.88C2407.21,-182.5 2430.69,-170.98 2452.3,-160.39\"/>\n<polygon fill=\"black\" stroke=\"black\" points=\"2453.99,-163.45 2461.43,-155.91 2450.91,-157.17 2453.99,-163.45\"/>\n</g>\n<!-- 49 -->\n<g id=\"node50\" class=\"node\">\n<title>49</title>\n<polygon fill=\"#e58139\" stroke=\"black\" points=\"2329,-53 2234,-53 2234,0 2329,0 2329,-53\"/>\n<text text-anchor=\"middle\" x=\"2281.5\" y=\"-37.8\" font-family=\"Helvetica,sans-Serif\" font-size=\"14.00\">samples = 4</text>\n<text text-anchor=\"middle\" x=\"2281.5\" y=\"-22.8\" font-family=\"Helvetica,sans-Serif\" font-size=\"14.00\">value = [4, 0]</text>\n<text text-anchor=\"middle\" x=\"2281.5\" y=\"-7.8\" font-family=\"Helvetica,sans-Serif\" font-size=\"14.00\">class = bad</text>\n</g>\n<!-- 48&#45;&gt;49 -->\n<g id=\"edge49\" class=\"edge\">\n<title>48&#45;&gt;49</title>\n<path fill=\"none\" stroke=\"black\" d=\"M2305.56,-88.95C2302.23,-80.44 2298.63,-71.26 2295.26,-62.65\"/>\n<polygon fill=\"black\" stroke=\"black\" points=\"2298.48,-61.27 2291.58,-53.24 2291.96,-63.82 2298.48,-61.27\"/>\n</g>\n<!-- 50 -->\n<g id=\"node51\" class=\"node\">\n<title>50</title>\n<polygon fill=\"#f6fafe\" stroke=\"black\" points=\"2457.5,-53 2347.5,-53 2347.5,0 2457.5,0 2457.5,-53\"/>\n<text text-anchor=\"middle\" x=\"2402.5\" y=\"-37.8\" font-family=\"Helvetica,sans-Serif\" font-size=\"14.00\">samples = 125</text>\n<text text-anchor=\"middle\" x=\"2402.5\" y=\"-22.8\" font-family=\"Helvetica,sans-Serif\" font-size=\"14.00\">value = [61, 64]</text>\n<text text-anchor=\"middle\" x=\"2402.5\" y=\"-7.8\" font-family=\"Helvetica,sans-Serif\" font-size=\"14.00\">class = good</text>\n</g>\n<!-- 48&#45;&gt;50 -->\n<g id=\"edge50\" class=\"edge\">\n<title>48&#45;&gt;50</title>\n<path fill=\"none\" stroke=\"black\" d=\"M2347.88,-88.95C2356.01,-79.8 2364.84,-69.87 2372.98,-60.71\"/>\n<polygon fill=\"black\" stroke=\"black\" points=\"2375.6,-63.04 2379.62,-53.24 2370.36,-58.39 2375.6,-63.04\"/>\n</g>\n<!-- 52 -->\n<g id=\"node53\" class=\"node\">\n<title>52</title>\n<polygon fill=\"#e58139\" stroke=\"black\" points=\"2577.5,-53 2475.5,-53 2475.5,0 2577.5,0 2577.5,-53\"/>\n<text text-anchor=\"middle\" x=\"2526.5\" y=\"-37.8\" font-family=\"Helvetica,sans-Serif\" font-size=\"14.00\">samples = 19</text>\n<text text-anchor=\"middle\" x=\"2526.5\" y=\"-22.8\" font-family=\"Helvetica,sans-Serif\" font-size=\"14.00\">value = [19, 0]</text>\n<text text-anchor=\"middle\" x=\"2526.5\" y=\"-7.8\" font-family=\"Helvetica,sans-Serif\" font-size=\"14.00\">class = bad</text>\n</g>\n<!-- 51&#45;&gt;52 -->\n<g id=\"edge52\" class=\"edge\">\n<title>51&#45;&gt;52</title>\n<path fill=\"none\" stroke=\"black\" d=\"M2526.5,-88.95C2526.5,-80.72 2526.5,-71.85 2526.5,-63.48\"/>\n<polygon fill=\"black\" stroke=\"black\" points=\"2530,-63.24 2526.5,-53.24 2523,-63.24 2530,-63.24\"/>\n</g>\n<!-- 53 -->\n<g id=\"node54\" class=\"node\">\n<title>53</title>\n<polygon fill=\"#f2c09c\" stroke=\"black\" points=\"2691,-53 2596,-53 2596,0 2691,0 2691,-53\"/>\n<text text-anchor=\"middle\" x=\"2643.5\" y=\"-37.8\" font-family=\"Helvetica,sans-Serif\" font-size=\"14.00\">samples = 9</text>\n<text text-anchor=\"middle\" x=\"2643.5\" y=\"-22.8\" font-family=\"Helvetica,sans-Serif\" font-size=\"14.00\">value = [6, 3]</text>\n<text text-anchor=\"middle\" x=\"2643.5\" y=\"-7.8\" font-family=\"Helvetica,sans-Serif\" font-size=\"14.00\">class = bad</text>\n</g>\n<!-- 51&#45;&gt;53 -->\n<g id=\"edge53\" class=\"edge\">\n<title>51&#45;&gt;53</title>\n<path fill=\"none\" stroke=\"black\" d=\"M2567.42,-88.95C2579.2,-79.43 2592.03,-69.07 2603.74,-59.62\"/>\n<polygon fill=\"black\" stroke=\"black\" points=\"2606.06,-62.24 2611.64,-53.24 2601.66,-56.8 2606.06,-62.24\"/>\n</g>\n<!-- 55 -->\n<g id=\"node56\" class=\"node\">\n<title>55</title>\n<polygon fill=\"#a5d3f3\" stroke=\"black\" points=\"2933.5,-365 2775.5,-365 2775.5,-297 2933.5,-297 2933.5,-365\"/>\n<text text-anchor=\"middle\" x=\"2854.5\" y=\"-349.8\" font-family=\"Helvetica,sans-Serif\" font-size=\"14.00\">volatile acidity &lt;= 0.852</text>\n<text text-anchor=\"middle\" x=\"2854.5\" y=\"-334.8\" font-family=\"Helvetica,sans-Serif\" font-size=\"14.00\">samples = 130</text>\n<text text-anchor=\"middle\" x=\"2854.5\" y=\"-319.8\" font-family=\"Helvetica,sans-Serif\" font-size=\"14.00\">value = [46, 84]</text>\n<text text-anchor=\"middle\" x=\"2854.5\" y=\"-304.8\" font-family=\"Helvetica,sans-Serif\" font-size=\"14.00\">class = good</text>\n</g>\n<!-- 54&#45;&gt;55 -->\n<g id=\"edge55\" class=\"edge\">\n<title>54&#45;&gt;55</title>\n<path fill=\"none\" stroke=\"black\" d=\"M2854.5,-400.88C2854.5,-392.78 2854.5,-383.98 2854.5,-375.47\"/>\n<polygon fill=\"black\" stroke=\"black\" points=\"2858,-375.3 2854.5,-365.3 2851,-375.3 2858,-375.3\"/>\n</g>\n<!-- 62 -->\n<g id=\"node63\" class=\"node\">\n<title>62</title>\n<polygon fill=\"#4fa8e8\" stroke=\"black\" points=\"3275.5,-365 3143.5,-365 3143.5,-297 3275.5,-297 3275.5,-365\"/>\n<text text-anchor=\"middle\" x=\"3209.5\" y=\"-349.8\" font-family=\"Helvetica,sans-Serif\" font-size=\"14.00\">sulphates &lt;= 0.635</text>\n<text text-anchor=\"middle\" x=\"3209.5\" y=\"-334.8\" font-family=\"Helvetica,sans-Serif\" font-size=\"14.00\">samples = 119</text>\n<text text-anchor=\"middle\" x=\"3209.5\" y=\"-319.8\" font-family=\"Helvetica,sans-Serif\" font-size=\"14.00\">value = [12, 107]</text>\n<text text-anchor=\"middle\" x=\"3209.5\" y=\"-304.8\" font-family=\"Helvetica,sans-Serif\" font-size=\"14.00\">class = good</text>\n</g>\n<!-- 54&#45;&gt;62 -->\n<g id=\"edge62\" class=\"edge\">\n<title>54&#45;&gt;62</title>\n<path fill=\"none\" stroke=\"black\" d=\"M2913.12,-417.16C2973.34,-399.85 3067.36,-372.84 3133.31,-353.89\"/>\n<polygon fill=\"black\" stroke=\"black\" points=\"3134.59,-357.16 3143.24,-351.04 3132.66,-350.44 3134.59,-357.16\"/>\n</g>\n<!-- 56 -->\n<g id=\"node57\" class=\"node\">\n<title>56</title>\n<polygon fill=\"#93c9f1\" stroke=\"black\" points=\"2861.5,-261 2703.5,-261 2703.5,-193 2861.5,-193 2861.5,-261\"/>\n<text text-anchor=\"middle\" x=\"2782.5\" y=\"-245.8\" font-family=\"Helvetica,sans-Serif\" font-size=\"14.00\">volatile acidity &lt;= 0.275</text>\n<text text-anchor=\"middle\" x=\"2782.5\" y=\"-230.8\" font-family=\"Helvetica,sans-Serif\" font-size=\"14.00\">samples = 122</text>\n<text text-anchor=\"middle\" x=\"2782.5\" y=\"-215.8\" font-family=\"Helvetica,sans-Serif\" font-size=\"14.00\">value = [38, 84]</text>\n<text text-anchor=\"middle\" x=\"2782.5\" y=\"-200.8\" font-family=\"Helvetica,sans-Serif\" font-size=\"14.00\">class = good</text>\n</g>\n<!-- 55&#45;&gt;56 -->\n<g id=\"edge56\" class=\"edge\">\n<title>55&#45;&gt;56</title>\n<path fill=\"none\" stroke=\"black\" d=\"M2831.12,-296.88C2824.96,-288.15 2818.24,-278.62 2811.8,-269.51\"/>\n<polygon fill=\"black\" stroke=\"black\" points=\"2814.63,-267.45 2806.01,-261.3 2808.91,-271.49 2814.63,-267.45\"/>\n</g>\n<!-- 61 -->\n<g id=\"node62\" class=\"node\">\n<title>61</title>\n<polygon fill=\"#e58139\" stroke=\"black\" points=\"2975,-253.5 2880,-253.5 2880,-200.5 2975,-200.5 2975,-253.5\"/>\n<text text-anchor=\"middle\" x=\"2927.5\" y=\"-238.3\" font-family=\"Helvetica,sans-Serif\" font-size=\"14.00\">samples = 8</text>\n<text text-anchor=\"middle\" x=\"2927.5\" y=\"-223.3\" font-family=\"Helvetica,sans-Serif\" font-size=\"14.00\">value = [8, 0]</text>\n<text text-anchor=\"middle\" x=\"2927.5\" y=\"-208.3\" font-family=\"Helvetica,sans-Serif\" font-size=\"14.00\">class = bad</text>\n</g>\n<!-- 55&#45;&gt;61 -->\n<g id=\"edge61\" class=\"edge\">\n<title>55&#45;&gt;61</title>\n<path fill=\"none\" stroke=\"black\" d=\"M2878.2,-296.88C2886.23,-285.67 2895.2,-273.13 2903.27,-261.85\"/>\n<polygon fill=\"black\" stroke=\"black\" points=\"2906.26,-263.69 2909.24,-253.52 2900.57,-259.61 2906.26,-263.69\"/>\n</g>\n<!-- 57 -->\n<g id=\"node58\" class=\"node\">\n<title>57</title>\n<polygon fill=\"#399de5\" stroke=\"black\" points=\"2768,-149.5 2673,-149.5 2673,-96.5 2768,-96.5 2768,-149.5\"/>\n<text text-anchor=\"middle\" x=\"2720.5\" y=\"-134.3\" font-family=\"Helvetica,sans-Serif\" font-size=\"14.00\">samples = 4</text>\n<text text-anchor=\"middle\" x=\"2720.5\" y=\"-119.3\" font-family=\"Helvetica,sans-Serif\" font-size=\"14.00\">value = [0, 4]</text>\n<text text-anchor=\"middle\" x=\"2720.5\" y=\"-104.3\" font-family=\"Helvetica,sans-Serif\" font-size=\"14.00\">class = good</text>\n</g>\n<!-- 56&#45;&gt;57 -->\n<g id=\"edge57\" class=\"edge\">\n<title>56&#45;&gt;57</title>\n<path fill=\"none\" stroke=\"black\" d=\"M2762.37,-192.88C2755.62,-181.78 2748.08,-169.37 2741.28,-158.18\"/>\n<polygon fill=\"black\" stroke=\"black\" points=\"2744.2,-156.25 2736.01,-149.52 2738.22,-159.88 2744.2,-156.25\"/>\n</g>\n<!-- 58 -->\n<g id=\"node59\" class=\"node\">\n<title>58</title>\n<polygon fill=\"#97ccf1\" stroke=\"black\" points=\"2903,-157 2786,-157 2786,-89 2903,-89 2903,-157\"/>\n<text text-anchor=\"middle\" x=\"2844.5\" y=\"-141.8\" font-family=\"Helvetica,sans-Serif\" font-size=\"14.00\">density &lt;= 0.996</text>\n<text text-anchor=\"middle\" x=\"2844.5\" y=\"-126.8\" font-family=\"Helvetica,sans-Serif\" font-size=\"14.00\">samples = 118</text>\n<text text-anchor=\"middle\" x=\"2844.5\" y=\"-111.8\" font-family=\"Helvetica,sans-Serif\" font-size=\"14.00\">value = [38, 80]</text>\n<text text-anchor=\"middle\" x=\"2844.5\" y=\"-96.8\" font-family=\"Helvetica,sans-Serif\" font-size=\"14.00\">class = good</text>\n</g>\n<!-- 56&#45;&gt;58 -->\n<g id=\"edge58\" class=\"edge\">\n<title>56&#45;&gt;58</title>\n<path fill=\"none\" stroke=\"black\" d=\"M2802.63,-192.88C2807.83,-184.33 2813.49,-175.01 2818.93,-166.07\"/>\n<polygon fill=\"black\" stroke=\"black\" points=\"2822.06,-167.66 2824.26,-157.3 2816.07,-164.03 2822.06,-167.66\"/>\n</g>\n<!-- 59 -->\n<g id=\"node60\" class=\"node\">\n<title>59</title>\n<polygon fill=\"#5fb0ea\" stroke=\"black\" points=\"2834,-53 2709,-53 2709,0 2834,0 2834,-53\"/>\n<text text-anchor=\"middle\" x=\"2771.5\" y=\"-37.8\" font-family=\"Helvetica,sans-Serif\" font-size=\"14.00\">samples = 43</text>\n<text text-anchor=\"middle\" x=\"2771.5\" y=\"-22.8\" font-family=\"Helvetica,sans-Serif\" font-size=\"14.00\">value = [7.0, 36.0]</text>\n<text text-anchor=\"middle\" x=\"2771.5\" y=\"-7.8\" font-family=\"Helvetica,sans-Serif\" font-size=\"14.00\">class = good</text>\n</g>\n<!-- 58&#45;&gt;59 -->\n<g id=\"edge59\" class=\"edge\">\n<title>58&#45;&gt;59</title>\n<path fill=\"none\" stroke=\"black\" d=\"M2818.97,-88.95C2812.04,-79.98 2804.54,-70.27 2797.58,-61.26\"/>\n<polygon fill=\"black\" stroke=\"black\" points=\"2800.26,-59.01 2791.38,-53.24 2794.72,-63.29 2800.26,-59.01\"/>\n</g>\n<!-- 60 -->\n<g id=\"node61\" class=\"node\">\n<title>60</title>\n<polygon fill=\"#c4e2f7\" stroke=\"black\" points=\"2962.5,-53 2852.5,-53 2852.5,0 2962.5,0 2962.5,-53\"/>\n<text text-anchor=\"middle\" x=\"2907.5\" y=\"-37.8\" font-family=\"Helvetica,sans-Serif\" font-size=\"14.00\">samples = 75</text>\n<text text-anchor=\"middle\" x=\"2907.5\" y=\"-22.8\" font-family=\"Helvetica,sans-Serif\" font-size=\"14.00\">value = [31, 44]</text>\n<text text-anchor=\"middle\" x=\"2907.5\" y=\"-7.8\" font-family=\"Helvetica,sans-Serif\" font-size=\"14.00\">class = good</text>\n</g>\n<!-- 58&#45;&gt;60 -->\n<g id=\"edge60\" class=\"edge\">\n<title>58&#45;&gt;60</title>\n<path fill=\"none\" stroke=\"black\" d=\"M2866.53,-88.95C2872.39,-80.17 2878.72,-70.66 2884.62,-61.82\"/>\n<polygon fill=\"black\" stroke=\"black\" points=\"2887.71,-63.5 2890.34,-53.24 2881.88,-59.62 2887.71,-63.5\"/>\n</g>\n<!-- 63 -->\n<g id=\"node64\" class=\"node\">\n<title>63</title>\n<polygon fill=\"#6cb6ec\" stroke=\"black\" points=\"3260.5,-261 3158.5,-261 3158.5,-193 3260.5,-193 3260.5,-261\"/>\n<text text-anchor=\"middle\" x=\"3209.5\" y=\"-245.8\" font-family=\"Helvetica,sans-Serif\" font-size=\"14.00\">pH &lt;= 3.435</text>\n<text text-anchor=\"middle\" x=\"3209.5\" y=\"-230.8\" font-family=\"Helvetica,sans-Serif\" font-size=\"14.00\">samples = 44</text>\n<text text-anchor=\"middle\" x=\"3209.5\" y=\"-215.8\" font-family=\"Helvetica,sans-Serif\" font-size=\"14.00\">value = [9, 35]</text>\n<text text-anchor=\"middle\" x=\"3209.5\" y=\"-200.8\" font-family=\"Helvetica,sans-Serif\" font-size=\"14.00\">class = good</text>\n</g>\n<!-- 62&#45;&gt;63 -->\n<g id=\"edge63\" class=\"edge\">\n<title>62&#45;&gt;63</title>\n<path fill=\"none\" stroke=\"black\" d=\"M3209.5,-296.88C3209.5,-288.78 3209.5,-279.98 3209.5,-271.47\"/>\n<polygon fill=\"black\" stroke=\"black\" points=\"3213,-271.3 3209.5,-261.3 3206,-271.3 3213,-271.3\"/>\n</g>\n<!-- 70 -->\n<g id=\"node71\" class=\"node\">\n<title>70</title>\n<polygon fill=\"#41a1e6\" stroke=\"black\" points=\"3560,-261 3443,-261 3443,-193 3560,-193 3560,-261\"/>\n<text text-anchor=\"middle\" x=\"3501.5\" y=\"-245.8\" font-family=\"Helvetica,sans-Serif\" font-size=\"14.00\">alcohol &lt;= 12.95</text>\n<text text-anchor=\"middle\" x=\"3501.5\" y=\"-230.8\" font-family=\"Helvetica,sans-Serif\" font-size=\"14.00\">samples = 75</text>\n<text text-anchor=\"middle\" x=\"3501.5\" y=\"-215.8\" font-family=\"Helvetica,sans-Serif\" font-size=\"14.00\">value = [3, 72]</text>\n<text text-anchor=\"middle\" x=\"3501.5\" y=\"-200.8\" font-family=\"Helvetica,sans-Serif\" font-size=\"14.00\">class = good</text>\n</g>\n<!-- 62&#45;&gt;70 -->\n<g id=\"edge70\" class=\"edge\">\n<title>62&#45;&gt;70</title>\n<path fill=\"none\" stroke=\"black\" d=\"M3275.76,-306.85C3322.83,-290.41 3385.85,-268.4 3433.34,-251.81\"/>\n<polygon fill=\"black\" stroke=\"black\" points=\"3434.64,-255.06 3442.92,-248.46 3432.33,-248.46 3434.64,-255.06\"/>\n</g>\n<!-- 64 -->\n<g id=\"node65\" class=\"node\">\n<title>64</title>\n<polygon fill=\"#49a5e7\" stroke=\"black\" points=\"3194,-157 3063,-157 3063,-89 3194,-89 3194,-157\"/>\n<text text-anchor=\"middle\" x=\"3128.5\" y=\"-141.8\" font-family=\"Helvetica,sans-Serif\" font-size=\"14.00\">citric acid &lt;= 0.455</text>\n<text text-anchor=\"middle\" x=\"3128.5\" y=\"-126.8\" font-family=\"Helvetica,sans-Serif\" font-size=\"14.00\">samples = 27</text>\n<text text-anchor=\"middle\" x=\"3128.5\" y=\"-111.8\" font-family=\"Helvetica,sans-Serif\" font-size=\"14.00\">value = [2, 25]</text>\n<text text-anchor=\"middle\" x=\"3128.5\" y=\"-96.8\" font-family=\"Helvetica,sans-Serif\" font-size=\"14.00\">class = good</text>\n</g>\n<!-- 63&#45;&gt;64 -->\n<g id=\"edge64\" class=\"edge\">\n<title>63&#45;&gt;64</title>\n<path fill=\"none\" stroke=\"black\" d=\"M3183.2,-192.88C3176.2,-184.07 3168.55,-174.43 3161.25,-165.24\"/>\n<polygon fill=\"black\" stroke=\"black\" points=\"3163.9,-162.95 3154.94,-157.3 3158.42,-167.31 3163.9,-162.95\"/>\n</g>\n<!-- 67 -->\n<g id=\"node68\" class=\"node\">\n<title>67</title>\n<polygon fill=\"#c4e2f7\" stroke=\"black\" points=\"3370.5,-157 3212.5,-157 3212.5,-89 3370.5,-89 3370.5,-157\"/>\n<text text-anchor=\"middle\" x=\"3291.5\" y=\"-141.8\" font-family=\"Helvetica,sans-Serif\" font-size=\"14.00\">volatile acidity &lt;= 0.642</text>\n<text text-anchor=\"middle\" x=\"3291.5\" y=\"-126.8\" font-family=\"Helvetica,sans-Serif\" font-size=\"14.00\">samples = 17</text>\n<text text-anchor=\"middle\" x=\"3291.5\" y=\"-111.8\" font-family=\"Helvetica,sans-Serif\" font-size=\"14.00\">value = [7, 10]</text>\n<text text-anchor=\"middle\" x=\"3291.5\" y=\"-96.8\" font-family=\"Helvetica,sans-Serif\" font-size=\"14.00\">class = good</text>\n</g>\n<!-- 63&#45;&gt;67 -->\n<g id=\"edge67\" class=\"edge\">\n<title>63&#45;&gt;67</title>\n<path fill=\"none\" stroke=\"black\" d=\"M3236.12,-192.88C3243.21,-184.07 3250.96,-174.43 3258.35,-165.24\"/>\n<polygon fill=\"black\" stroke=\"black\" points=\"3261.19,-167.29 3264.73,-157.3 3255.74,-162.9 3261.19,-167.29\"/>\n</g>\n<!-- 65 -->\n<g id=\"node66\" class=\"node\">\n<title>65</title>\n<polygon fill=\"#399de5\" stroke=\"black\" points=\"3082.5,-53 2980.5,-53 2980.5,0 3082.5,0 3082.5,-53\"/>\n<text text-anchor=\"middle\" x=\"3031.5\" y=\"-37.8\" font-family=\"Helvetica,sans-Serif\" font-size=\"14.00\">samples = 15</text>\n<text text-anchor=\"middle\" x=\"3031.5\" y=\"-22.8\" font-family=\"Helvetica,sans-Serif\" font-size=\"14.00\">value = [0, 15]</text>\n<text text-anchor=\"middle\" x=\"3031.5\" y=\"-7.8\" font-family=\"Helvetica,sans-Serif\" font-size=\"14.00\">class = good</text>\n</g>\n<!-- 64&#45;&gt;65 -->\n<g id=\"edge65\" class=\"edge\">\n<title>64&#45;&gt;65</title>\n<path fill=\"none\" stroke=\"black\" d=\"M3094.57,-88.95C3085.09,-79.71 3074.79,-69.67 3065.31,-60.44\"/>\n<polygon fill=\"black\" stroke=\"black\" points=\"3067.52,-57.71 3057.92,-53.24 3062.64,-62.72 3067.52,-57.71\"/>\n</g>\n<!-- 66 -->\n<g id=\"node67\" class=\"node\">\n<title>66</title>\n<polygon fill=\"#61b1ea\" stroke=\"black\" points=\"3202.5,-53 3100.5,-53 3100.5,0 3202.5,0 3202.5,-53\"/>\n<text text-anchor=\"middle\" x=\"3151.5\" y=\"-37.8\" font-family=\"Helvetica,sans-Serif\" font-size=\"14.00\">samples = 12</text>\n<text text-anchor=\"middle\" x=\"3151.5\" y=\"-22.8\" font-family=\"Helvetica,sans-Serif\" font-size=\"14.00\">value = [2, 10]</text>\n<text text-anchor=\"middle\" x=\"3151.5\" y=\"-7.8\" font-family=\"Helvetica,sans-Serif\" font-size=\"14.00\">class = good</text>\n</g>\n<!-- 64&#45;&gt;66 -->\n<g id=\"edge66\" class=\"edge\">\n<title>64&#45;&gt;66</title>\n<path fill=\"none\" stroke=\"black\" d=\"M3136.54,-88.95C3138.57,-80.62 3140.75,-71.65 3142.81,-63.2\"/>\n<polygon fill=\"black\" stroke=\"black\" points=\"3146.27,-63.78 3145.24,-53.24 3139.47,-62.13 3146.27,-63.78\"/>\n</g>\n<!-- 68 -->\n<g id=\"node69\" class=\"node\">\n<title>68</title>\n<polygon fill=\"#ffffff\" stroke=\"black\" points=\"3318.5,-53 3220.5,-53 3220.5,0 3318.5,0 3318.5,-53\"/>\n<text text-anchor=\"middle\" x=\"3269.5\" y=\"-37.8\" font-family=\"Helvetica,sans-Serif\" font-size=\"14.00\">samples = 10</text>\n<text text-anchor=\"middle\" x=\"3269.5\" y=\"-22.8\" font-family=\"Helvetica,sans-Serif\" font-size=\"14.00\">value = [5, 5]</text>\n<text text-anchor=\"middle\" x=\"3269.5\" y=\"-7.8\" font-family=\"Helvetica,sans-Serif\" font-size=\"14.00\">class = bad</text>\n</g>\n<!-- 67&#45;&gt;68 -->\n<g id=\"edge68\" class=\"edge\">\n<title>67&#45;&gt;68</title>\n<path fill=\"none\" stroke=\"black\" d=\"M3283.81,-88.95C3281.87,-80.62 3279.78,-71.65 3277.81,-63.2\"/>\n<polygon fill=\"black\" stroke=\"black\" points=\"3281.17,-62.18 3275.49,-53.24 3274.35,-63.77 3281.17,-62.18\"/>\n</g>\n<!-- 69 -->\n<g id=\"node70\" class=\"node\">\n<title>69</title>\n<polygon fill=\"#88c4ef\" stroke=\"black\" points=\"3432,-53 3337,-53 3337,0 3432,0 3432,-53\"/>\n<text text-anchor=\"middle\" x=\"3384.5\" y=\"-37.8\" font-family=\"Helvetica,sans-Serif\" font-size=\"14.00\">samples = 7</text>\n<text text-anchor=\"middle\" x=\"3384.5\" y=\"-22.8\" font-family=\"Helvetica,sans-Serif\" font-size=\"14.00\">value = [2, 5]</text>\n<text text-anchor=\"middle\" x=\"3384.5\" y=\"-7.8\" font-family=\"Helvetica,sans-Serif\" font-size=\"14.00\">class = good</text>\n</g>\n<!-- 67&#45;&gt;69 -->\n<g id=\"edge69\" class=\"edge\">\n<title>67&#45;&gt;69</title>\n<path fill=\"none\" stroke=\"black\" d=\"M3324.03,-88.95C3333.12,-79.71 3343,-69.67 3352.08,-60.44\"/>\n<polygon fill=\"black\" stroke=\"black\" points=\"3354.65,-62.82 3359.17,-53.24 3349.66,-57.91 3354.65,-62.82\"/>\n</g>\n<!-- 71 -->\n<g id=\"node72\" class=\"node\">\n<title>71</title>\n<polygon fill=\"#3c9ee5\" stroke=\"black\" points=\"3560,-157 3443,-157 3443,-89 3560,-89 3560,-157\"/>\n<text text-anchor=\"middle\" x=\"3501.5\" y=\"-141.8\" font-family=\"Helvetica,sans-Serif\" font-size=\"14.00\">density &lt;= 0.998</text>\n<text text-anchor=\"middle\" x=\"3501.5\" y=\"-126.8\" font-family=\"Helvetica,sans-Serif\" font-size=\"14.00\">samples = 71</text>\n<text text-anchor=\"middle\" x=\"3501.5\" y=\"-111.8\" font-family=\"Helvetica,sans-Serif\" font-size=\"14.00\">value = [1, 70]</text>\n<text text-anchor=\"middle\" x=\"3501.5\" y=\"-96.8\" font-family=\"Helvetica,sans-Serif\" font-size=\"14.00\">class = good</text>\n</g>\n<!-- 70&#45;&gt;71 -->\n<g id=\"edge71\" class=\"edge\">\n<title>70&#45;&gt;71</title>\n<path fill=\"none\" stroke=\"black\" d=\"M3501.5,-192.88C3501.5,-184.78 3501.5,-175.98 3501.5,-167.47\"/>\n<polygon fill=\"black\" stroke=\"black\" points=\"3505,-167.3 3501.5,-157.3 3498,-167.3 3505,-167.3\"/>\n</g>\n<!-- 74 -->\n<g id=\"node75\" class=\"node\">\n<title>74</title>\n<polygon fill=\"#ffffff\" stroke=\"black\" points=\"3673,-149.5 3578,-149.5 3578,-96.5 3673,-96.5 3673,-149.5\"/>\n<text text-anchor=\"middle\" x=\"3625.5\" y=\"-134.3\" font-family=\"Helvetica,sans-Serif\" font-size=\"14.00\">samples = 4</text>\n<text text-anchor=\"middle\" x=\"3625.5\" y=\"-119.3\" font-family=\"Helvetica,sans-Serif\" font-size=\"14.00\">value = [2, 2]</text>\n<text text-anchor=\"middle\" x=\"3625.5\" y=\"-104.3\" font-family=\"Helvetica,sans-Serif\" font-size=\"14.00\">class = bad</text>\n</g>\n<!-- 70&#45;&gt;74 -->\n<g id=\"edge74\" class=\"edge\">\n<title>70&#45;&gt;74</title>\n<path fill=\"none\" stroke=\"black\" d=\"M3541.76,-192.88C3556.2,-181.01 3572.44,-167.65 3586.75,-155.88\"/>\n<polygon fill=\"black\" stroke=\"black\" points=\"3588.98,-158.58 3594.48,-149.52 3584.53,-153.17 3588.98,-158.58\"/>\n</g>\n<!-- 72 -->\n<g id=\"node73\" class=\"node\">\n<title>72</title>\n<polygon fill=\"#399de5\" stroke=\"black\" points=\"3552.5,-53 3450.5,-53 3450.5,0 3552.5,0 3552.5,-53\"/>\n<text text-anchor=\"middle\" x=\"3501.5\" y=\"-37.8\" font-family=\"Helvetica,sans-Serif\" font-size=\"14.00\">samples = 56</text>\n<text text-anchor=\"middle\" x=\"3501.5\" y=\"-22.8\" font-family=\"Helvetica,sans-Serif\" font-size=\"14.00\">value = [0, 56]</text>\n<text text-anchor=\"middle\" x=\"3501.5\" y=\"-7.8\" font-family=\"Helvetica,sans-Serif\" font-size=\"14.00\">class = good</text>\n</g>\n<!-- 71&#45;&gt;72 -->\n<g id=\"edge72\" class=\"edge\">\n<title>71&#45;&gt;72</title>\n<path fill=\"none\" stroke=\"black\" d=\"M3501.5,-88.95C3501.5,-80.72 3501.5,-71.85 3501.5,-63.48\"/>\n<polygon fill=\"black\" stroke=\"black\" points=\"3505,-63.24 3501.5,-53.24 3498,-63.24 3505,-63.24\"/>\n</g>\n<!-- 73 -->\n<g id=\"node74\" class=\"node\">\n<title>73</title>\n<polygon fill=\"#47a4e7\" stroke=\"black\" points=\"3672.5,-53 3570.5,-53 3570.5,0 3672.5,0 3672.5,-53\"/>\n<text text-anchor=\"middle\" x=\"3621.5\" y=\"-37.8\" font-family=\"Helvetica,sans-Serif\" font-size=\"14.00\">samples = 15</text>\n<text text-anchor=\"middle\" x=\"3621.5\" y=\"-22.8\" font-family=\"Helvetica,sans-Serif\" font-size=\"14.00\">value = [1, 14]</text>\n<text text-anchor=\"middle\" x=\"3621.5\" y=\"-7.8\" font-family=\"Helvetica,sans-Serif\" font-size=\"14.00\">class = good</text>\n</g>\n<!-- 71&#45;&gt;73 -->\n<g id=\"edge73\" class=\"edge\">\n<title>71&#45;&gt;73</title>\n<path fill=\"none\" stroke=\"black\" d=\"M3543.47,-88.95C3555.55,-79.43 3568.71,-69.07 3580.72,-59.62\"/>\n<polygon fill=\"black\" stroke=\"black\" points=\"3583.13,-62.17 3588.82,-53.24 3578.8,-56.67 3583.13,-62.17\"/>\n</g>\n</g>\n</svg>\n",
            "text/plain": [
              "<graphviz.sources.Source at 0x7c36bb388250>"
            ]
          },
          "metadata": {},
          "output_type": "display_data"
        }
      ],
      "source": [
        "from sklearn.tree import export_graphviz\n",
        "import graphviz\n",
        "from IPython.display import display\n",
        "\n",
        "export_graphviz(tree, out_file=\"tree.dot\", class_names=[\"bad\", \"good\"],\n",
        "                feature_names=X.columns, impurity=False, filled=True)\n",
        "\n",
        "with open(\"tree.dot\") as f:\n",
        "    dot_graph = f.read()\n",
        "display(graphviz.Source(dot_graph))\n"
      ]
    },
    {
      "cell_type": "code",
      "execution_count": null,
      "metadata": {
        "colab": {
          "base_uri": "https://localhost:8080/"
        },
        "id": "C8FCFVb0SPGm",
        "outputId": "8f86f511-b9eb-47d9-cbca-9efb17dfb59e"
      },
      "outputs": [
        {
          "name": "stdout",
          "output_type": "stream",
          "text": [
            "Feature importances:\n",
            "[0.03691864 0.133088   0.00727982 0.         0.11432927 0.02034576\n",
            " 0.0511062  0.11610967 0.04370076 0.10678176 0.37034011]\n"
          ]
        }
      ],
      "source": [
        "# feature importances\n",
        "print(\"Feature importances:\\n{}\".format(tree.feature_importances_))"
      ]
    },
    {
      "cell_type": "markdown",
      "metadata": {
        "id": "DrGKSUC8StI_"
      },
      "source": [
        "### Task 2"
      ]
    },
    {
      "cell_type": "code",
      "execution_count": null,
      "metadata": {
        "colab": {
          "base_uri": "https://localhost:8080/",
          "height": 74
        },
        "id": "9QX2_tMxSu4w",
        "outputId": "e1abcde9-bc27-4615-c36a-7c2ab9f65159"
      },
      "outputs": [
        {
          "data": {
            "text/html": [
              "\n",
              "     <input type=\"file\" id=\"files-88838fc2-ce6e-4bd1-89a4-8e928d12eba0\" name=\"files[]\" multiple disabled\n",
              "        style=\"border:none\" />\n",
              "     <output id=\"result-88838fc2-ce6e-4bd1-89a4-8e928d12eba0\">\n",
              "      Upload widget is only available when the cell has been executed in the\n",
              "      current browser session. Please rerun this cell to enable.\n",
              "      </output>\n",
              "      <script>// Copyright 2017 Google LLC\n",
              "//\n",
              "// Licensed under the Apache License, Version 2.0 (the \"License\");\n",
              "// you may not use this file except in compliance with the License.\n",
              "// You may obtain a copy of the License at\n",
              "//\n",
              "//      http://www.apache.org/licenses/LICENSE-2.0\n",
              "//\n",
              "// Unless required by applicable law or agreed to in writing, software\n",
              "// distributed under the License is distributed on an \"AS IS\" BASIS,\n",
              "// WITHOUT WARRANTIES OR CONDITIONS OF ANY KIND, either express or implied.\n",
              "// See the License for the specific language governing permissions and\n",
              "// limitations under the License.\n",
              "\n",
              "/**\n",
              " * @fileoverview Helpers for google.colab Python module.\n",
              " */\n",
              "(function(scope) {\n",
              "function span(text, styleAttributes = {}) {\n",
              "  const element = document.createElement('span');\n",
              "  element.textContent = text;\n",
              "  for (const key of Object.keys(styleAttributes)) {\n",
              "    element.style[key] = styleAttributes[key];\n",
              "  }\n",
              "  return element;\n",
              "}\n",
              "\n",
              "// Max number of bytes which will be uploaded at a time.\n",
              "const MAX_PAYLOAD_SIZE = 100 * 1024;\n",
              "\n",
              "function _uploadFiles(inputId, outputId) {\n",
              "  const steps = uploadFilesStep(inputId, outputId);\n",
              "  const outputElement = document.getElementById(outputId);\n",
              "  // Cache steps on the outputElement to make it available for the next call\n",
              "  // to uploadFilesContinue from Python.\n",
              "  outputElement.steps = steps;\n",
              "\n",
              "  return _uploadFilesContinue(outputId);\n",
              "}\n",
              "\n",
              "// This is roughly an async generator (not supported in the browser yet),\n",
              "// where there are multiple asynchronous steps and the Python side is going\n",
              "// to poll for completion of each step.\n",
              "// This uses a Promise to block the python side on completion of each step,\n",
              "// then passes the result of the previous step as the input to the next step.\n",
              "function _uploadFilesContinue(outputId) {\n",
              "  const outputElement = document.getElementById(outputId);\n",
              "  const steps = outputElement.steps;\n",
              "\n",
              "  const next = steps.next(outputElement.lastPromiseValue);\n",
              "  return Promise.resolve(next.value.promise).then((value) => {\n",
              "    // Cache the last promise value to make it available to the next\n",
              "    // step of the generator.\n",
              "    outputElement.lastPromiseValue = value;\n",
              "    return next.value.response;\n",
              "  });\n",
              "}\n",
              "\n",
              "/**\n",
              " * Generator function which is called between each async step of the upload\n",
              " * process.\n",
              " * @param {string} inputId Element ID of the input file picker element.\n",
              " * @param {string} outputId Element ID of the output display.\n",
              " * @return {!Iterable<!Object>} Iterable of next steps.\n",
              " */\n",
              "function* uploadFilesStep(inputId, outputId) {\n",
              "  const inputElement = document.getElementById(inputId);\n",
              "  inputElement.disabled = false;\n",
              "\n",
              "  const outputElement = document.getElementById(outputId);\n",
              "  outputElement.innerHTML = '';\n",
              "\n",
              "  const pickedPromise = new Promise((resolve) => {\n",
              "    inputElement.addEventListener('change', (e) => {\n",
              "      resolve(e.target.files);\n",
              "    });\n",
              "  });\n",
              "\n",
              "  const cancel = document.createElement('button');\n",
              "  inputElement.parentElement.appendChild(cancel);\n",
              "  cancel.textContent = 'Cancel upload';\n",
              "  const cancelPromise = new Promise((resolve) => {\n",
              "    cancel.onclick = () => {\n",
              "      resolve(null);\n",
              "    };\n",
              "  });\n",
              "\n",
              "  // Wait for the user to pick the files.\n",
              "  const files = yield {\n",
              "    promise: Promise.race([pickedPromise, cancelPromise]),\n",
              "    response: {\n",
              "      action: 'starting',\n",
              "    }\n",
              "  };\n",
              "\n",
              "  cancel.remove();\n",
              "\n",
              "  // Disable the input element since further picks are not allowed.\n",
              "  inputElement.disabled = true;\n",
              "\n",
              "  if (!files) {\n",
              "    return {\n",
              "      response: {\n",
              "        action: 'complete',\n",
              "      }\n",
              "    };\n",
              "  }\n",
              "\n",
              "  for (const file of files) {\n",
              "    const li = document.createElement('li');\n",
              "    li.append(span(file.name, {fontWeight: 'bold'}));\n",
              "    li.append(span(\n",
              "        `(${file.type || 'n/a'}) - ${file.size} bytes, ` +\n",
              "        `last modified: ${\n",
              "            file.lastModifiedDate ? file.lastModifiedDate.toLocaleDateString() :\n",
              "                                    'n/a'} - `));\n",
              "    const percent = span('0% done');\n",
              "    li.appendChild(percent);\n",
              "\n",
              "    outputElement.appendChild(li);\n",
              "\n",
              "    const fileDataPromise = new Promise((resolve) => {\n",
              "      const reader = new FileReader();\n",
              "      reader.onload = (e) => {\n",
              "        resolve(e.target.result);\n",
              "      };\n",
              "      reader.readAsArrayBuffer(file);\n",
              "    });\n",
              "    // Wait for the data to be ready.\n",
              "    let fileData = yield {\n",
              "      promise: fileDataPromise,\n",
              "      response: {\n",
              "        action: 'continue',\n",
              "      }\n",
              "    };\n",
              "\n",
              "    // Use a chunked sending to avoid message size limits. See b/62115660.\n",
              "    let position = 0;\n",
              "    do {\n",
              "      const length = Math.min(fileData.byteLength - position, MAX_PAYLOAD_SIZE);\n",
              "      const chunk = new Uint8Array(fileData, position, length);\n",
              "      position += length;\n",
              "\n",
              "      const base64 = btoa(String.fromCharCode.apply(null, chunk));\n",
              "      yield {\n",
              "        response: {\n",
              "          action: 'append',\n",
              "          file: file.name,\n",
              "          data: base64,\n",
              "        },\n",
              "      };\n",
              "\n",
              "      let percentDone = fileData.byteLength === 0 ?\n",
              "          100 :\n",
              "          Math.round((position / fileData.byteLength) * 100);\n",
              "      percent.textContent = `${percentDone}% done`;\n",
              "\n",
              "    } while (position < fileData.byteLength);\n",
              "  }\n",
              "\n",
              "  // All done.\n",
              "  yield {\n",
              "    response: {\n",
              "      action: 'complete',\n",
              "    }\n",
              "  };\n",
              "}\n",
              "\n",
              "scope.google = scope.google || {};\n",
              "scope.google.colab = scope.google.colab || {};\n",
              "scope.google.colab._files = {\n",
              "  _uploadFiles,\n",
              "  _uploadFilesContinue,\n",
              "};\n",
              "})(self);\n",
              "</script> "
            ],
            "text/plain": [
              "<IPython.core.display.HTML object>"
            ]
          },
          "metadata": {},
          "output_type": "display_data"
        },
        {
          "name": "stdout",
          "output_type": "stream",
          "text": [
            "Saving wine_data_test.csv to wine_data_test.csv\n"
          ]
        }
      ],
      "source": [
        "# wine_data_test.csv\n",
        "from google.colab import files\n",
        "uploaded = files.upload()"
      ]
    },
    {
      "cell_type": "code",
      "execution_count": null,
      "metadata": {
        "colab": {
          "base_uri": "https://localhost:8080/"
        },
        "id": "cF4YYNxzTWqd",
        "outputId": "0e744b36-4872-46ac-c8f8-05057499c380"
      },
      "outputs": [
        {
          "name": "stdout",
          "output_type": "stream",
          "text": [
            "Sample Test Set Accuracy: 0.750\n",
            "Sample Test Set Confusion Matrix:\n",
            "Predicted   0   1  All\n",
            "True                  \n",
            "0          34  14   48\n",
            "1          11  41   52\n",
            "All        45  55  100\n"
          ]
        },
        {
          "name": "stderr",
          "output_type": "stream",
          "text": [
            "/usr/local/lib/python3.11/dist-packages/sklearn/utils/validation.py:2732: UserWarning: X has feature names, but DecisionTreeClassifier was fitted without feature names\n",
            "  warnings.warn(\n"
          ]
        }
      ],
      "source": [
        "# approach: simple decision tree\n",
        "import pandas as pd\n",
        "from sklearn.metrics import accuracy_score\n",
        "\n",
        "test_data = pd.read_csv(\"wine_data_test.csv\")\n",
        "\n",
        "X_dummy_test = test_data.drop(\"quality\", axis=1)\n",
        "y_dummy_test = test_data[\"quality\"]\n",
        "\n",
        "dummy_predictions = tree.predict(X_dummy_test)\n",
        "dummy_accuracy = accuracy_score(y_dummy_test, dummy_predictions)\n",
        "print(\"Sample Test Set Accuracy: {:.3f}\".format(dummy_accuracy))\n",
        "\n",
        "# confusion matrix\n",
        "print(\"Sample Test Set Confusion Matrix:\")\n",
        "print(pd.crosstab(y_dummy_test, dummy_predictions, rownames=[\"True\"], colnames=[\"Predicted\"], margins=True))\n"
      ]
    },
    {
      "cell_type": "code",
      "execution_count": null,
      "metadata": {
        "colab": {
          "base_uri": "https://localhost:8080/"
        },
        "id": "wfG6QvZl2IVp",
        "outputId": "c6041a2b-3efb-493e-8c9f-302b56155405"
      },
      "outputs": [
        {
          "name": "stdout",
          "output_type": "stream",
          "text": [
            "\n",
            "LightGBM - Sample Test Set Accuracy: 0.870\n",
            "LightGBM - Sample Test Confusion Matrix:\n",
            "Predicted   0   1  All\n",
            "True                  \n",
            "0          40   8   48\n",
            "1           5  47   52\n",
            "All        45  55  100\n",
            "\n",
            "Stacking - Sample Test Set Accuracy: 0.900\n",
            "Stacking - Sample Test Confusion Matrix:\n",
            "Predicted   0   1  All\n",
            "True                  \n",
            "0          41   7   48\n",
            "1           3  49   52\n",
            "All        44  56  100\n"
          ]
        }
      ],
      "source": [
        "# approach: light gbm & stacking\n",
        "import pandas as pd\n",
        "from sklearn.metrics import accuracy_score\n",
        "\n",
        "test_data = pd.read_csv(\"wine_data_test.csv\")\n",
        "\n",
        "test_data['volatile acidity'] = test_data['alcohol'] * test_data['fixed acidity']\n",
        "test_data['acidity_ratio'] = test_data['fixed acidity'] / (test_data['volatile acidity'] + 1e-5)\n",
        "test_data['sulfur_ratio'] = test_data['free sulfur dioxide'] / (test_data['total sulfur dioxide'] + 1e-5)\n",
        "\n",
        "X_dummy_test = test_data.drop(\"quality\", axis=1)\n",
        "y_dummy_test = test_data[\"quality\"]\n",
        "\n",
        "# light gbm confusion matrix\n",
        "lgbm_dummy_pred = lgbm.predict(X_dummy_test)\n",
        "lgbm_dummy_acc = accuracy_score(y_dummy_test, lgbm_dummy_pred)\n",
        "print(\"\\nLightGBM - Sample Test Set Accuracy: {:.3f}\".format(lgbm_dummy_acc))\n",
        "print(\"Sample Test Confusion Matrix:\")\n",
        "print(pd.crosstab(y_dummy_test, lgbm_dummy_pred, rownames=[\"True\"], colnames=[\"Predicted\"], margins=True))\n",
        "\n",
        "# stacking confusion matrix\n",
        "stack_dummy_pred = stacked.predict(X_dummy_test)\n",
        "stack_dummy_acc = accuracy_score(y_dummy_test, stack_dummy_pred)\n",
        "print(\"\\nStacking - Sample Test Set Accuracy: {:.3f}\".format(stack_dummy_acc))\n",
        "print(\"Sample Test Confusion Matrix:\")\n",
        "print(pd.crosstab(y_dummy_test, stack_dummy_pred, rownames=[\"True\"], colnames=[\"Predicted\"], margins=True))\n"
      ]
    },
    {
      "cell_type": "markdown",
      "metadata": {
        "id": "G-5ioLsLT3rM"
      },
      "source": [
        "### Task 3"
      ]
    },
    {
      "cell_type": "code",
      "execution_count": null,
      "metadata": {
        "id": "Td3TnImVT5AX",
        "outputId": "fae47f02-38aa-44bf-d7f5-0d126ca5653b",
        "colab": {
          "base_uri": "https://localhost:8080/",
          "height": 56
        }
      },
      "outputs": [
        {
          "data": {
            "text/html": [
              "\n",
              "     <input type=\"file\" id=\"files-b6c83254-cd4f-4ed9-b62c-b987197bc0dd\" name=\"files[]\" multiple disabled\n",
              "        style=\"border:none\" />\n",
              "     <output id=\"result-b6c83254-cd4f-4ed9-b62c-b987197bc0dd\">\n",
              "      Upload widget is only available when the cell has been executed in the\n",
              "      current browser session. Please rerun this cell to enable.\n",
              "      </output>\n",
              "      <script>// Copyright 2017 Google LLC\n",
              "//\n",
              "// Licensed under the Apache License, Version 2.0 (the \"License\");\n",
              "// you may not use this file except in compliance with the License.\n",
              "// You may obtain a copy of the License at\n",
              "//\n",
              "//      http://www.apache.org/licenses/LICENSE-2.0\n",
              "//\n",
              "// Unless required by applicable law or agreed to in writing, software\n",
              "// distributed under the License is distributed on an \"AS IS\" BASIS,\n",
              "// WITHOUT WARRANTIES OR CONDITIONS OF ANY KIND, either express or implied.\n",
              "// See the License for the specific language governing permissions and\n",
              "// limitations under the License.\n",
              "\n",
              "/**\n",
              " * @fileoverview Helpers for google.colab Python module.\n",
              " */\n",
              "(function(scope) {\n",
              "function span(text, styleAttributes = {}) {\n",
              "  const element = document.createElement('span');\n",
              "  element.textContent = text;\n",
              "  for (const key of Object.keys(styleAttributes)) {\n",
              "    element.style[key] = styleAttributes[key];\n",
              "  }\n",
              "  return element;\n",
              "}\n",
              "\n",
              "// Max number of bytes which will be uploaded at a time.\n",
              "const MAX_PAYLOAD_SIZE = 100 * 1024;\n",
              "\n",
              "function _uploadFiles(inputId, outputId) {\n",
              "  const steps = uploadFilesStep(inputId, outputId);\n",
              "  const outputElement = document.getElementById(outputId);\n",
              "  // Cache steps on the outputElement to make it available for the next call\n",
              "  // to uploadFilesContinue from Python.\n",
              "  outputElement.steps = steps;\n",
              "\n",
              "  return _uploadFilesContinue(outputId);\n",
              "}\n",
              "\n",
              "// This is roughly an async generator (not supported in the browser yet),\n",
              "// where there are multiple asynchronous steps and the Python side is going\n",
              "// to poll for completion of each step.\n",
              "// This uses a Promise to block the python side on completion of each step,\n",
              "// then passes the result of the previous step as the input to the next step.\n",
              "function _uploadFilesContinue(outputId) {\n",
              "  const outputElement = document.getElementById(outputId);\n",
              "  const steps = outputElement.steps;\n",
              "\n",
              "  const next = steps.next(outputElement.lastPromiseValue);\n",
              "  return Promise.resolve(next.value.promise).then((value) => {\n",
              "    // Cache the last promise value to make it available to the next\n",
              "    // step of the generator.\n",
              "    outputElement.lastPromiseValue = value;\n",
              "    return next.value.response;\n",
              "  });\n",
              "}\n",
              "\n",
              "/**\n",
              " * Generator function which is called between each async step of the upload\n",
              " * process.\n",
              " * @param {string} inputId Element ID of the input file picker element.\n",
              " * @param {string} outputId Element ID of the output display.\n",
              " * @return {!Iterable<!Object>} Iterable of next steps.\n",
              " */\n",
              "function* uploadFilesStep(inputId, outputId) {\n",
              "  const inputElement = document.getElementById(inputId);\n",
              "  inputElement.disabled = false;\n",
              "\n",
              "  const outputElement = document.getElementById(outputId);\n",
              "  outputElement.innerHTML = '';\n",
              "\n",
              "  const pickedPromise = new Promise((resolve) => {\n",
              "    inputElement.addEventListener('change', (e) => {\n",
              "      resolve(e.target.files);\n",
              "    });\n",
              "  });\n",
              "\n",
              "  const cancel = document.createElement('button');\n",
              "  inputElement.parentElement.appendChild(cancel);\n",
              "  cancel.textContent = 'Cancel upload';\n",
              "  const cancelPromise = new Promise((resolve) => {\n",
              "    cancel.onclick = () => {\n",
              "      resolve(null);\n",
              "    };\n",
              "  });\n",
              "\n",
              "  // Wait for the user to pick the files.\n",
              "  const files = yield {\n",
              "    promise: Promise.race([pickedPromise, cancelPromise]),\n",
              "    response: {\n",
              "      action: 'starting',\n",
              "    }\n",
              "  };\n",
              "\n",
              "  cancel.remove();\n",
              "\n",
              "  // Disable the input element since further picks are not allowed.\n",
              "  inputElement.disabled = true;\n",
              "\n",
              "  if (!files) {\n",
              "    return {\n",
              "      response: {\n",
              "        action: 'complete',\n",
              "      }\n",
              "    };\n",
              "  }\n",
              "\n",
              "  for (const file of files) {\n",
              "    const li = document.createElement('li');\n",
              "    li.append(span(file.name, {fontWeight: 'bold'}));\n",
              "    li.append(span(\n",
              "        `(${file.type || 'n/a'}) - ${file.size} bytes, ` +\n",
              "        `last modified: ${\n",
              "            file.lastModifiedDate ? file.lastModifiedDate.toLocaleDateString() :\n",
              "                                    'n/a'} - `));\n",
              "    const percent = span('0% done');\n",
              "    li.appendChild(percent);\n",
              "\n",
              "    outputElement.appendChild(li);\n",
              "\n",
              "    const fileDataPromise = new Promise((resolve) => {\n",
              "      const reader = new FileReader();\n",
              "      reader.onload = (e) => {\n",
              "        resolve(e.target.result);\n",
              "      };\n",
              "      reader.readAsArrayBuffer(file);\n",
              "    });\n",
              "    // Wait for the data to be ready.\n",
              "    let fileData = yield {\n",
              "      promise: fileDataPromise,\n",
              "      response: {\n",
              "        action: 'continue',\n",
              "      }\n",
              "    };\n",
              "\n",
              "    // Use a chunked sending to avoid message size limits. See b/62115660.\n",
              "    let position = 0;\n",
              "    do {\n",
              "      const length = Math.min(fileData.byteLength - position, MAX_PAYLOAD_SIZE);\n",
              "      const chunk = new Uint8Array(fileData, position, length);\n",
              "      position += length;\n",
              "\n",
              "      const base64 = btoa(String.fromCharCode.apply(null, chunk));\n",
              "      yield {\n",
              "        response: {\n",
              "          action: 'append',\n",
              "          file: file.name,\n",
              "          data: base64,\n",
              "        },\n",
              "      };\n",
              "\n",
              "      let percentDone = fileData.byteLength === 0 ?\n",
              "          100 :\n",
              "          Math.round((position / fileData.byteLength) * 100);\n",
              "      percent.textContent = `${percentDone}% done`;\n",
              "\n",
              "    } while (position < fileData.byteLength);\n",
              "  }\n",
              "\n",
              "  // All done.\n",
              "  yield {\n",
              "    response: {\n",
              "      action: 'complete',\n",
              "    }\n",
              "  };\n",
              "}\n",
              "\n",
              "scope.google = scope.google || {};\n",
              "scope.google.colab = scope.google.colab || {};\n",
              "scope.google.colab._files = {\n",
              "  _uploadFiles,\n",
              "  _uploadFilesContinue,\n",
              "};\n",
              "})(self);\n",
              "</script> "
            ],
            "text/plain": [
              "<IPython.core.display.HTML object>"
            ]
          },
          "metadata": {},
          "output_type": "display_data"
        }
      ],
      "source": [
        "# wine_data.csv\n",
        "from google.colab import files\n",
        "uploaded = files.upload()"
      ]
    },
    {
      "cell_type": "code",
      "execution_count": null,
      "metadata": {
        "colab": {
          "base_uri": "https://localhost:8080/"
        },
        "id": "XnfpatzOUC7A",
        "outputId": "711fa97d-0573-4418-ce9f-677a6a5d47e8"
      },
      "outputs": [
        {
          "name": "stdout",
          "output_type": "stream",
          "text": [
            "Cross-validation scores for each fold: [0.74264706 0.70588235 0.73529412 0.65441176 0.69117647 0.66176471\n",
            " 0.625      0.67647059 0.68382353 0.65925926]\n",
            "Average cross-validation score: 0.684\n"
          ]
        }
      ],
      "source": [
        "# approach: simple decision tree\n",
        "import pandas as pd\n",
        "from sklearn.tree import DecisionTreeClassifier\n",
        "from sklearn.model_selection import cross_val_score\n",
        "\n",
        "wine = pd.read_csv(\"wine_data.csv\")\n",
        "X = wine.drop(\"quality\", axis=1)\n",
        "y = wine[\"quality\"]\n",
        "\n",
        "tree = DecisionTreeClassifier(\n",
        "    max_depth=6,\n",
        "    min_samples_leaf=4,\n",
        "    criterion='entropy',\n",
        "    max_features='sqrt',\n",
        "    random_state=0\n",
        ")\n",
        "\n",
        "# 10-fold cross-validation\n",
        "scores = cross_val_score(tree, X, y, cv=10)\n",
        "\n",
        "print(\"Cross-validation scores for each fold: {}\".format(scores))\n",
        "print(\"Average cross-validation score: {:.3f}\".format(scores.mean()))\n"
      ]
    },
    {
      "cell_type": "code",
      "execution_count": 7,
      "metadata": {
        "colab": {
          "base_uri": "https://localhost:8080/"
        },
        "id": "vlAI823m2Xbn",
        "outputId": "2055d78e-5e5f-4861-ff5d-07b98fbb7428"
      },
      "outputs": [
        {
          "output_type": "stream",
          "name": "stdout",
          "text": [
            "LightGBM - Cross-validation scores: [0.78676471 0.72794118 0.76470588 0.78676471 0.75735294 0.74264706\n",
            " 0.75       0.74264706 0.75       0.74074074]\n",
            "LightGBM - Average CV score: 0.755\n",
            "\n",
            "Stacking - Cross-validation scores: [0.83088235 0.75735294 0.79411765 0.78676471 0.78676471 0.77205882\n",
            " 0.80147059 0.79411765 0.75735294 0.74814815]\n",
            "Stacking - Average CV score: 0.783\n"
          ]
        }
      ],
      "source": [
        "# approach: light gbm & stacking\n",
        "import pandas as pd\n",
        "from sklearn.model_selection import cross_val_score\n",
        "from sklearn.ensemble import GradientBoostingClassifier, RandomForestClassifier, StackingClassifier\n",
        "from sklearn.linear_model import LogisticRegression\n",
        "from lightgbm import LGBMClassifier\n",
        "\n",
        "wine = pd.read_csv(\"wine_data.csv\")\n",
        "wine['volatile acidity'] = wine['alcohol'] * wine['fixed acidity']\n",
        "wine['acidity_ratio'] = wine['fixed acidity'] / (wine['volatile acidity'] + 1e-5)\n",
        "wine['sulfur_ratio'] = wine['free sulfur dioxide'] / (wine['total sulfur dioxide'] + 1e-5)\n",
        "\n",
        "X = wine.drop(\"quality\", axis=1)\n",
        "y = wine[\"quality\"]\n",
        "\n",
        "# cross-validation for light gbm\n",
        "lgbm = LGBMClassifier(\n",
        "    n_estimators=400,\n",
        "    learning_rate=0.03,\n",
        "    max_depth=3,\n",
        "    subsample=0.8,\n",
        "    colsample_bytree=0.8,\n",
        "    min_child_samples=20,\n",
        "    reg_alpha=1.0,\n",
        "    reg_lambda=1.0,\n",
        "    random_state=0,\n",
        "    verbose=-1,\n",
        "    verbosity=-1\n",
        ")\n",
        "\n",
        "lgbm_scores = cross_val_score(lgbm, X, y, cv=10)\n",
        "print(\"LightGBM - Cross-validation scores:\", lgbm_scores)\n",
        "print(\"LightGBM - Average cross validation score: {:.3f}\".format(lgbm_scores.mean()))\n",
        "\n",
        "# cross-validation for stacking\n",
        "gb = GradientBoostingClassifier(\n",
        "    n_estimators=300,\n",
        "    learning_rate=0.05,\n",
        "    max_depth=3,\n",
        "    min_samples_leaf=4,\n",
        "    subsample=0.9,\n",
        "    random_state=0\n",
        ")\n",
        "\n",
        "rf = RandomForestClassifier(\n",
        "    n_estimators=300,\n",
        "    max_depth=6,\n",
        "    min_samples_leaf=4,\n",
        "    max_features='sqrt',\n",
        "    random_state=0\n",
        ")\n",
        "\n",
        "stacked = StackingClassifier(\n",
        "    estimators=[('gb', gb), ('rf', rf)],\n",
        "    final_estimator=LogisticRegression(max_iter=1000),\n",
        "    cv=5\n",
        ")\n",
        "\n",
        "stack_scores = cross_val_score(stacked, X, y, cv=10)\n",
        "print(\"\\nStacking - Cross-validation scores:\", stack_scores)\n",
        "print(\"Stacking - Average cross validation score: {:.3f}\".format(stack_scores.mean()))\n"
      ]
    }
  ],
  "metadata": {
    "colab": {
      "provenance": []
    },
    "kernelspec": {
      "display_name": "Python 3",
      "name": "python3"
    },
    "language_info": {
      "name": "python"
    }
  },
  "nbformat": 4,
  "nbformat_minor": 0
}